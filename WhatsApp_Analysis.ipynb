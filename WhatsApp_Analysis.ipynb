{
  "nbformat": 4,
  "nbformat_minor": 0,
  "metadata": {
    "colab": {
      "name": "WhatsApp Analysis.ipynb",
      "provenance": [],
      "collapsed_sections": []
    },
    "kernelspec": {
      "name": "python3",
      "display_name": "Python 3"
    },
    "language_info": {
      "name": "python"
    }
  },
  "cells": [
    {
      "cell_type": "code",
      "metadata": {
        "colab": {
          "base_uri": "https://localhost:8080/"
        },
        "id": "QLuE2XAclHzs",
        "outputId": "236f8f6b-1889-4eee-f4a0-c9222fec1d1a"
      },
      "source": [
        "from google.colab import drive\n",
        "drive.mount('/content/drive')"
      ],
      "execution_count": 3,
      "outputs": [
        {
          "output_type": "stream",
          "text": [
            "Drive already mounted at /content/drive; to attempt to forcibly remount, call drive.mount(\"/content/drive\", force_remount=True).\n"
          ],
          "name": "stdout"
        }
      ]
    },
    {
      "cell_type": "code",
      "metadata": {
        "colab": {
          "base_uri": "https://localhost:8080/"
        },
        "id": "0Ks0bb53J5ex",
        "outputId": "41615138-3fbc-4628-8b92-c7f2fe8a82bf"
      },
      "source": [
        "\n",
        "\n",
        "!pip install wordcloud --upgrade --quiet\n",
        "\n",
        "!pip install plotly_express --upgrade --quiet"
      ],
      "execution_count": 4,
      "outputs": [
        {
          "output_type": "stream",
          "text": [
            "\u001b[?25l\r\u001b[K     |█                               | 10 kB 22.9 MB/s eta 0:00:01\r\u001b[K     |█▉                              | 20 kB 28.0 MB/s eta 0:00:01\r\u001b[K     |██▊                             | 30 kB 12.6 MB/s eta 0:00:01\r\u001b[K     |███▋                            | 40 kB 9.2 MB/s eta 0:00:01\r\u001b[K     |████▌                           | 51 kB 5.3 MB/s eta 0:00:01\r\u001b[K     |█████▍                          | 61 kB 5.5 MB/s eta 0:00:01\r\u001b[K     |██████▎                         | 71 kB 5.6 MB/s eta 0:00:01\r\u001b[K     |███████▏                        | 81 kB 6.3 MB/s eta 0:00:01\r\u001b[K     |████████                        | 92 kB 6.2 MB/s eta 0:00:01\r\u001b[K     |█████████                       | 102 kB 5.1 MB/s eta 0:00:01\r\u001b[K     |█████████▉                      | 112 kB 5.1 MB/s eta 0:00:01\r\u001b[K     |██████████▊                     | 122 kB 5.1 MB/s eta 0:00:01\r\u001b[K     |███████████▋                    | 133 kB 5.1 MB/s eta 0:00:01\r\u001b[K     |████████████▌                   | 143 kB 5.1 MB/s eta 0:00:01\r\u001b[K     |█████████████▍                  | 153 kB 5.1 MB/s eta 0:00:01\r\u001b[K     |██████████████▎                 | 163 kB 5.1 MB/s eta 0:00:01\r\u001b[K     |███████████████▏                | 174 kB 5.1 MB/s eta 0:00:01\r\u001b[K     |████████████████                | 184 kB 5.1 MB/s eta 0:00:01\r\u001b[K     |█████████████████               | 194 kB 5.1 MB/s eta 0:00:01\r\u001b[K     |██████████████████              | 204 kB 5.1 MB/s eta 0:00:01\r\u001b[K     |██████████████████▉             | 215 kB 5.1 MB/s eta 0:00:01\r\u001b[K     |███████████████████▊            | 225 kB 5.1 MB/s eta 0:00:01\r\u001b[K     |████████████████████▋           | 235 kB 5.1 MB/s eta 0:00:01\r\u001b[K     |█████████████████████▌          | 245 kB 5.1 MB/s eta 0:00:01\r\u001b[K     |██████████████████████▍         | 256 kB 5.1 MB/s eta 0:00:01\r\u001b[K     |███████████████████████▎        | 266 kB 5.1 MB/s eta 0:00:01\r\u001b[K     |████████████████████████▏       | 276 kB 5.1 MB/s eta 0:00:01\r\u001b[K     |█████████████████████████       | 286 kB 5.1 MB/s eta 0:00:01\r\u001b[K     |██████████████████████████      | 296 kB 5.1 MB/s eta 0:00:01\r\u001b[K     |██████████████████████████▉     | 307 kB 5.1 MB/s eta 0:00:01\r\u001b[K     |███████████████████████████▊    | 317 kB 5.1 MB/s eta 0:00:01\r\u001b[K     |████████████████████████████▋   | 327 kB 5.1 MB/s eta 0:00:01\r\u001b[K     |█████████████████████████████▌  | 337 kB 5.1 MB/s eta 0:00:01\r\u001b[K     |██████████████████████████████▍ | 348 kB 5.1 MB/s eta 0:00:01\r\u001b[K     |███████████████████████████████▎| 358 kB 5.1 MB/s eta 0:00:01\r\u001b[K     |████████████████████████████████| 366 kB 5.1 MB/s \n",
            "\u001b[?25h"
          ],
          "name": "stdout"
        }
      ]
    },
    {
      "cell_type": "code",
      "metadata": {
        "id": "tlDvF2RvJ2Gg"
      },
      "source": [
        ""
      ],
      "execution_count": null,
      "outputs": []
    },
    {
      "cell_type": "code",
      "metadata": {
        "colab": {
          "base_uri": "https://localhost:8080/"
        },
        "id": "MszEI5vDMSn2",
        "outputId": "081b42ea-2c11-498d-ea0d-496ab1b2cd9b"
      },
      "source": [
        "!pip install emoji  --upgrade --quiet"
      ],
      "execution_count": 5,
      "outputs": [
        {
          "output_type": "stream",
          "text": [
            "\u001b[?25l\r\u001b[K     |█▊                              | 10 kB 26.0 MB/s eta 0:00:01\r\u001b[K     |███▌                            | 20 kB 28.9 MB/s eta 0:00:01\r\u001b[K     |█████▎                          | 30 kB 12.5 MB/s eta 0:00:01\r\u001b[K     |███████                         | 40 kB 9.4 MB/s eta 0:00:01\r\u001b[K     |████████▉                       | 51 kB 5.2 MB/s eta 0:00:01\r\u001b[K     |██████████▋                     | 61 kB 5.7 MB/s eta 0:00:01\r\u001b[K     |████████████▍                   | 71 kB 5.5 MB/s eta 0:00:01\r\u001b[K     |██████████████▏                 | 81 kB 6.2 MB/s eta 0:00:01\r\u001b[K     |████████████████                | 92 kB 4.7 MB/s eta 0:00:01\r\u001b[K     |█████████████████▊              | 102 kB 5.1 MB/s eta 0:00:01\r\u001b[K     |███████████████████▌            | 112 kB 5.1 MB/s eta 0:00:01\r\u001b[K     |█████████████████████▎          | 122 kB 5.1 MB/s eta 0:00:01\r\u001b[K     |███████████████████████         | 133 kB 5.1 MB/s eta 0:00:01\r\u001b[K     |████████████████████████▉       | 143 kB 5.1 MB/s eta 0:00:01\r\u001b[K     |██████████████████████████▋     | 153 kB 5.1 MB/s eta 0:00:01\r\u001b[K     |████████████████████████████▍   | 163 kB 5.1 MB/s eta 0:00:01\r\u001b[K     |██████████████████████████████▏ | 174 kB 5.1 MB/s eta 0:00:01\r\u001b[K     |███████████████████████████████▉| 184 kB 5.1 MB/s eta 0:00:01\r\u001b[K     |████████████████████████████████| 184 kB 5.1 MB/s \n",
            "\u001b[?25h  Building wheel for emoji (setup.py) ... \u001b[?25l\u001b[?25hdone\n"
          ],
          "name": "stdout"
        }
      ]
    },
    {
      "cell_type": "code",
      "metadata": {
        "id": "IQQ-Ral4dKfV"
      },
      "source": [
        "from datetime import datetime as dt\n",
        "import pandas as pd\n",
        "import numpy as np\n",
        "import matplotlib\n",
        "import matplotlib.pyplot as plt # visualization\n",
        "import seaborn as sns #visualization\n",
        "%matplotlib inline\n",
        "sns.set()\n",
        "import regex as re\n",
        "import re\n",
        "\n",
        "import os\n",
        "import emoji\n",
        "from collections import Counter\n",
        "# from PIL import image \n",
        "from  wordcloud import WordCloud, STOPWORDS, ImageColorGenerator\n",
        "import plotly.express as px"
      ],
      "execution_count": 6,
      "outputs": []
    },
    {
      "cell_type": "code",
      "metadata": {
        "id": "A6thv65udWVj"
      },
      "source": [
        "#To read the text file\n",
        "whtasapp_df = pd.read_fwf(\"_chat.txt\", header= None )"
      ],
      "execution_count": 7,
      "outputs": []
    },
    {
      "cell_type": "code",
      "metadata": {
        "colab": {
          "base_uri": "https://localhost:8080/",
          "height": 238
        },
        "id": "OTNfFQL_MnQj",
        "outputId": "03f2362b-be3c-44da-8986-f824d8289e1c"
      },
      "source": [
        "whtasapp_df.head(5) "
      ],
      "execution_count": null,
      "outputs": [
        {
          "output_type": "execute_result",
          "data": {
            "text/html": [
              "<div>\n",
              "<style scoped>\n",
              "    .dataframe tbody tr th:only-of-type {\n",
              "        vertical-align: middle;\n",
              "    }\n",
              "\n",
              "    .dataframe tbody tr th {\n",
              "        vertical-align: top;\n",
              "    }\n",
              "\n",
              "    .dataframe thead th {\n",
              "        text-align: right;\n",
              "    }\n",
              "</style>\n",
              "<table border=\"1\" class=\"dataframe\">\n",
              "  <thead>\n",
              "    <tr style=\"text-align: right;\">\n",
              "      <th></th>\n",
              "      <th>0</th>\n",
              "      <th>1</th>\n",
              "      <th>2</th>\n",
              "      <th>3</th>\n",
              "      <th>4</th>\n",
              "      <th>5</th>\n",
              "      <th>6</th>\n",
              "      <th>7</th>\n",
              "      <th>8</th>\n",
              "    </tr>\n",
              "  </thead>\n",
              "  <tbody>\n",
              "    <tr>\n",
              "      <th>0</th>\n",
              "      <td>[3/4/19, 8:42:11 PM] 1# WHOLE LIFE FOUNDATION:...</td>\n",
              "      <td>one outside of</td>\n",
              "      <td>this chat, not even WhatsApp,</td>\n",
              "      <td>can</td>\n",
              "      <td>read</td>\n",
              "      <td>or</td>\n",
              "      <td>listen</td>\n",
              "      <td>to</td>\n",
              "      <td>them.</td>\n",
              "    </tr>\n",
              "    <tr>\n",
              "      <th>1</th>\n",
              "      <td>[3/4/19, 8:42:11 PM] ‎‪+234 706 973 3917‬ crea...</td>\n",
              "      <td>NaN</td>\n",
              "      <td>NaN</td>\n",
              "      <td>NaN</td>\n",
              "      <td>NaN</td>\n",
              "      <td>NaN</td>\n",
              "      <td>NaN</td>\n",
              "      <td>NaN</td>\n",
              "      <td>NaN</td>\n",
              "    </tr>\n",
              "    <tr>\n",
              "      <th>2</th>\n",
              "      <td>[3/29/21, 8:30:39 PM] ‎You joined using this g...</td>\n",
              "      <td>NaN</td>\n",
              "      <td>NaN</td>\n",
              "      <td>NaN</td>\n",
              "      <td>NaN</td>\n",
              "      <td>NaN</td>\n",
              "      <td>NaN</td>\n",
              "      <td>NaN</td>\n",
              "      <td>NaN</td>\n",
              "    </tr>\n",
              "    <tr>\n",
              "      <th>3</th>\n",
              "      <td>[3/29/21, 8:31:00 PM] ‪+234 810 679 0200‬: Wow</td>\n",
              "      <td>NaN</td>\n",
              "      <td>NaN</td>\n",
              "      <td>NaN</td>\n",
              "      <td>NaN</td>\n",
              "      <td>NaN</td>\n",
              "      <td>NaN</td>\n",
              "      <td>NaN</td>\n",
              "      <td>NaN</td>\n",
              "    </tr>\n",
              "    <tr>\n",
              "      <th>4</th>\n",
              "      <td>Awesome💃💃</td>\n",
              "      <td>NaN</td>\n",
              "      <td>NaN</td>\n",
              "      <td>NaN</td>\n",
              "      <td>NaN</td>\n",
              "      <td>NaN</td>\n",
              "      <td>NaN</td>\n",
              "      <td>NaN</td>\n",
              "      <td>NaN</td>\n",
              "    </tr>\n",
              "  </tbody>\n",
              "</table>\n",
              "</div>"
            ],
            "text/plain": [
              "                                                   0  ...      8\n",
              "0  [3/4/19, 8:42:11 PM] 1# WHOLE LIFE FOUNDATION:...  ...  them.\n",
              "1  [3/4/19, 8:42:11 PM] ‎‪+234 706 973 3917‬ crea...  ...    NaN\n",
              "2  [3/29/21, 8:30:39 PM] ‎You joined using this g...  ...    NaN\n",
              "3     [3/29/21, 8:31:00 PM] ‪+234 810 679 0200‬: Wow  ...    NaN\n",
              "4                                          Awesome💃💃  ...    NaN\n",
              "\n",
              "[5 rows x 9 columns]"
            ]
          },
          "metadata": {},
          "execution_count": 9
        }
      ]
    },
    {
      "cell_type": "code",
      "metadata": {
        "colab": {
          "base_uri": "https://localhost:8080/"
        },
        "id": "ZIWlqt8N2YMd",
        "outputId": "99000efa-1cd7-4537-94bd-d5f3b408e68e"
      },
      "source": [
        "whtasapp_df.columns\n",
        "\n"
      ],
      "execution_count": null,
      "outputs": [
        {
          "output_type": "execute_result",
          "data": {
            "text/plain": [
              "Int64Index([0, 1, 2, 3, 4, 5, 6, 7, 8], dtype='int64')"
            ]
          },
          "metadata": {},
          "execution_count": 10
        }
      ]
    },
    {
      "cell_type": "code",
      "metadata": {
        "id": "XwAHefZi2ySR"
      },
      "source": [
        "whtasapp_df[int(0)].head(5)"
      ],
      "execution_count": null,
      "outputs": []
    },
    {
      "cell_type": "markdown",
      "metadata": {
        "id": "AKJBUXv2346c"
      },
      "source": [
        "Now, we need to know how a typical line is written from that text file."
      ]
    },
    {
      "cell_type": "code",
      "metadata": {
        "colab": {
          "base_uri": "https://localhost:8080/"
        },
        "id": "jMkDUUHBrGAE",
        "outputId": "e3deaa95-0788-4c1c-c578-45510c070346"
      },
      "source": [
        "f = open(\"_chat.txt\", \"r\")\n",
        "\n",
        "print(f.readline())\n",
        "print(f.readline())\n",
        "print(f.readline())\n",
        "print(f.readline())\n",
        "\n",
        "f.close()"
      ],
      "execution_count": 91,
      "outputs": [
        {
          "output_type": "stream",
          "text": [
            "[3/4/19, 8:42:11 PM] 1# WHOLE LIFE FOUNDATION: ‎Messages and calls are end-to-end encrypted. No one outside of this chat, not even WhatsApp, can read or listen to them.\n",
            "\n",
            "[3/4/19, 8:42:11 PM] ‎‪+234 706 973 3917‬ created this group\n",
            "\n",
            "[3/29/21, 8:30:39 PM] ‎You joined using this group's invite link\n",
            "\n",
            "[3/29/21, 8:31:00 PM] ‪+234 810 679 0200‬: Wow\n",
            "\n"
          ],
          "name": "stdout"
        }
      ]
    },
    {
      "cell_type": "code",
      "metadata": {
        "id": "8Hek5NwXzKJt"
      },
      "source": [
        ""
      ],
      "execution_count": null,
      "outputs": []
    },
    {
      "cell_type": "code",
      "metadata": {
        "id": "OoYqMEJz1w5X"
      },
      "source": [
        ""
      ],
      "execution_count": null,
      "outputs": []
    },
    {
      "cell_type": "markdown",
      "metadata": {
        "id": "c926yHaYnuFg"
      },
      "source": [
        "### **Observation**\n",
        "\n",
        "\n",
        "*   The features need to be change. We can see the features are in numbers\n",
        "\n",
        "*   We need to drop some nan values\n",
        "\n",
        "*   The messages in the chat are formatted like this:\n",
        "\n",
        " **[3/29/21, 8:31:12 PM] ‪+234 810 679 0200‬: Evening dear**\n",
        "\n",
        "*   We need to check if the date and time start with datetime  format, one way to check is using regular expression to match the diffeent format\n",
        "\n",
        "\n",
        "*   Each Line need to be dividied into date, time, author and message\n",
        "\n",
        "\n",
        "*   Extracting a typical line from the text  file, we can see some lines have numbers and some don't have. This means that they are some messages that have author while some don't have, let's note it down.\n",
        "\n",
        "\n",
        "*   Not every line start with a date time. i.e some line starts with a text(Multiline mesage)\n",
        "\n",
        "*   \n",
        "\n",
        "\n",
        "\n",
        "\n"
      ]
    },
    {
      "cell_type": "markdown",
      "metadata": {
        "id": "pQJCs6bRF5pt"
      },
      "source": [
        "A regular expression is a sequence of characters that define a search pattern. In other words: is a combination of letters, numbers and symbols we can use to search stuff within a larger text :)\n"
      ]
    },
    {
      "cell_type": "code",
      "metadata": {
        "id": "JiRpWdvIeNnd"
      },
      "source": [
        "whtasapp_df.head(22) "
      ],
      "execution_count": null,
      "outputs": []
    },
    {
      "cell_type": "code",
      "metadata": {
        "id": "SeahzULGUQRQ"
      },
      "source": [
        ""
      ],
      "execution_count": null,
      "outputs": []
    },
    {
      "cell_type": "markdown",
      "metadata": {
        "id": "zkLHloDJN5_2"
      },
      "source": [
        "Here, from the table above, my messegaes are formattedlike this:\n",
        "\n",
        "## **[3/29/21, 8:31:12 PM] ‪+234 810 679 0200‬: Evening dear**\n",
        "\n",
        "Each line can be broken in specific blocks, as follows.\n",
        "\n",
        "[{DATE}, {TIME}] {AUTHOR}:  {MESSAGE}"
      ]
    },
    {
      "cell_type": "markdown",
      "metadata": {
        "id": "TEZ5M52VO7Zd"
      },
      "source": [
        "Now, to match the formats above we used regrex."
      ]
    },
    {
      "cell_type": "markdown",
      "metadata": {
        "id": "yAWqm_wnYE6m"
      },
      "source": [
        "Now we have to check if a line starts with a date and time.\n",
        "\n",
        "First, in order to detect if a line of text is a new message(that start with a date and  time) or belongs to a multi-line message, we will have to check if that line begins with a Date and Time, for which we will need a little bit of regular expression (regex) matching.\n",
        "\n",
        "**NOTE**\n",
        "A new message must start with date and time."
      ]
    },
    {
      "cell_type": "code",
      "metadata": {
        "id": "emC9smsxN5mh"
      },
      "source": [
        "#To extract the date  and time\n",
        "#[3/29/21, 8:31:12 PM] #writing the date and time format in a regrex pattern\n",
        "def date_time(s):\n",
        "  ##writing the date and time format in a regrex pattern\n",
        "  pattern = '^\\[([0-9]+)([/])([0-9]+)([/])([0-9]+)[,]? ([0-9]+):([0-9][0-9]):([0-9][0-9])?[ ]?(AM|PM|am|pm)?\\]'\n",
        "  result = re.match(pattern, s)\n",
        "  if result:\n",
        "    return True\n",
        "  else:\n",
        "    return False\n"
      ],
      "execution_count": 8,
      "outputs": []
    },
    {
      "cell_type": "markdown",
      "metadata": {
        "id": "KYNDsZKQNCBA"
      },
      "source": [
        "From the above function, two blocks have been detected. i.e The Time and Date."
      ]
    },
    {
      "cell_type": "markdown",
      "metadata": {
        "id": "1nJgN1Sn9OSa"
      },
      "source": [
        "To check if there is an author field(i.e if the Author: Message exist)"
      ]
    },
    {
      "cell_type": "code",
      "metadata": {
        "id": "U-5O8_G8N4Es"
      },
      "source": [
        "#To check if there ia an author in the chat\n",
        "# '‪+234 810 679 0200‬: Evening dear'\n",
        "\n",
        "def get_author(s):\n",
        "  s = s.split(\":\")\n",
        "  if len(s) > 1:\n",
        "    return True\n",
        "  else:\n",
        "    return False\n"
      ],
      "execution_count": 9,
      "outputs": []
    },
    {
      "cell_type": "markdown",
      "metadata": {
        "id": "nwjHe-kCRXlq"
      },
      "source": [
        "from the code above, we have define the four blocks, i.e {Date} (Time} {Author}(Message}.\n",
        "\n",
        "NOTE: once we have defined  the Date, Time and Author blocks, what we are left with is the remaining portion of the string which is the de facto Message block. That is why we were able to define  the message block."
      ]
    },
    {
      "cell_type": "code",
      "metadata": {
        "id": "6C2Vl_g-QnuK"
      },
      "source": [
        ""
      ],
      "execution_count": null,
      "outputs": []
    },
    {
      "cell_type": "markdown",
      "metadata": {
        "id": "kuQ3pI9-4r3P"
      },
      "source": [
        " Extracting and Combining blocks>\n",
        " \n"
      ]
    },
    {
      "cell_type": "markdown",
      "metadata": {
        "id": "FQyhXrTX5ywa"
      },
      "source": [
        "[3/29/21, 8:31:12 PM] ‪+234 810 679 0200‬: Evening dear"
      ]
    },
    {
      "cell_type": "markdown",
      "metadata": {
        "id": "ajKWmIjoRCoI"
      },
      "source": [
        "We have been able to identify the Date, Time, Author and Message blocks in a single line, we have to split each line based on the Date, Time, Author and Message  like commas (,), squre bracket(]), colons(:) and spaces( ), so that the required blocks can be extracted and saved in a dataframe.\n"
      ]
    },
    {
      "cell_type": "markdown",
      "metadata": {
        "id": "FBjQSWGeSFL9"
      },
      "source": [
        "\n",
        "Date{Comma }Time{rightsquarebracket }Author{Colon }Message\n",
        "\n",
        "[18/06/17{, }22:47 PM]{] }‪+234 810 679 0200{: }Evening dear\n",
        "\n",
        "\n"
      ]
    },
    {
      "cell_type": "code",
      "metadata": {
        "id": "YyECvSIj4rTW"
      },
      "source": [
        "def getDataPoint(line):\n",
        "  splitline = line.split('] ') #['3/29/21, 8:31:12 PM', '‪+234 810 679 0200‬: Evening dear']\n",
        "  dateTime = splitline[0] # dateTime = '3/29/21, 8:31:12 PM'\n",
        "  date, time = dateTime.split(\", \") # date = '3/29/21', time = '8:31:12 PM'\n",
        "  message = ' '.join(splitline[1:]) #message = '‪+234 810 679 0200‬: Evening dear'\n",
        "\n",
        "  if get_author(message): #True\n",
        "    splitMessage = message.split(\": \")     #message = ['+234 810 679 0200', ‬'Evening dear']\n",
        "    author = splitMessage[0] # author = '+234 810 679 0200‬'\n",
        "    message = ' '.join(splitMessage[1:]) # message = 'Evening dear'\n",
        "  else:\n",
        "    author = None\n",
        "\n",
        "\n",
        "  if  time[5] == \":\": # time = \"10:30:33 PM\"\n",
        "    time = time[:5] + time[-3:] #  time = '10:30' + ' PM\" --- 10:30 PM\n",
        "  else:\n",
        "    time = time[:4] + time[-3:]  \n",
        "  return date, time, author, message\n",
        "\n",
        "\n"
      ],
      "execution_count": 10,
      "outputs": []
    },
    {
      "cell_type": "markdown",
      "metadata": {
        "id": "Tr5hDnjkTIlG"
      },
      "source": [
        "Now, we need to Parse  the entire file and handle  Multi-Line Messages in the file.\n"
      ]
    },
    {
      "cell_type": "code",
      "metadata": {
        "id": "bSaRxoehUYah"
      },
      "source": [
        "\n",
        "#defining all the  vaariabe we need \n",
        "data = [] #list to keep track of data\n",
        "conversation = \"_chat.txt\"\n",
        "with open(conversation, encoding=\"Utf-8\") as fp:\n",
        "  fp.readline() #skipping the first line(It do contain)\n",
        "  messageBuffer = []\n",
        "  date, time, author = None, None, None\n",
        "\n",
        "  while True:\n",
        "    line = fp.readline() #read each line\n",
        "    if not line: #to stop if end of file has been reached.\n",
        "      break\n",
        "    line = line.strip() # guarding against leading or trailing whitespaces\n",
        "    if date_time(line):        #if a line start with a date time format, it indicate the beginning of a message\n",
        "      if len(messageBuffer) > 0: #Check if the message buffer contains characters \n",
        "        data.append([date, time, author, ' '.join(messageBuffer)]) #save the blocks from the previous message in Data\n",
        "      messageBuffer.clear() #clear the message so that it can be used for  next message\n",
        "      date, time, author, message = getDataPoint(line) # Identify and extract blocks from the line\n",
        "      messageBuffer.append(message) # Append message to buffer\n",
        "    else:\n",
        "      messageBuffer.append(line) ## If a line doesn't start with a Date Time pattern, then it is part of a multi-line message. So, just append to buffer\n",
        "\n",
        "      \n",
        "    \n",
        "\n",
        "\n",
        "\n"
      ],
      "execution_count": 11,
      "outputs": []
    },
    {
      "cell_type": "code",
      "metadata": {
        "colab": {
          "base_uri": "https://localhost:8080/",
          "height": 204
        },
        "id": "D_ldpxu-mPib",
        "outputId": "4a13929f-49c8-4315-c261-b77a14031e68"
      },
      "source": [
        "df1 = pd.DataFrame(data, columns=['Date', 'Time', 'Author', 'Message'])\n",
        "df1.head()\n"
      ],
      "execution_count": 12,
      "outputs": [
        {
          "output_type": "execute_result",
          "data": {
            "text/html": [
              "<div>\n",
              "<style scoped>\n",
              "    .dataframe tbody tr th:only-of-type {\n",
              "        vertical-align: middle;\n",
              "    }\n",
              "\n",
              "    .dataframe tbody tr th {\n",
              "        vertical-align: top;\n",
              "    }\n",
              "\n",
              "    .dataframe thead th {\n",
              "        text-align: right;\n",
              "    }\n",
              "</style>\n",
              "<table border=\"1\" class=\"dataframe\">\n",
              "  <thead>\n",
              "    <tr style=\"text-align: right;\">\n",
              "      <th></th>\n",
              "      <th>Date</th>\n",
              "      <th>Time</th>\n",
              "      <th>Author</th>\n",
              "      <th>Message</th>\n",
              "    </tr>\n",
              "  </thead>\n",
              "  <tbody>\n",
              "    <tr>\n",
              "      <th>0</th>\n",
              "      <td>[3/4/19</td>\n",
              "      <td>8:42 PM</td>\n",
              "      <td>None</td>\n",
              "      <td>‎‪+234 706 973 3917‬ created this group</td>\n",
              "    </tr>\n",
              "    <tr>\n",
              "      <th>1</th>\n",
              "      <td>[3/29/21</td>\n",
              "      <td>8:30 PM</td>\n",
              "      <td>None</td>\n",
              "      <td>‎You joined using this group's invite link</td>\n",
              "    </tr>\n",
              "    <tr>\n",
              "      <th>2</th>\n",
              "      <td>[3/29/21</td>\n",
              "      <td>8:31 PM</td>\n",
              "      <td>‪+234 810 679 0200‬</td>\n",
              "      <td>Wow Awesome💃💃</td>\n",
              "    </tr>\n",
              "    <tr>\n",
              "      <th>3</th>\n",
              "      <td>[3/29/21</td>\n",
              "      <td>8:31 PM</td>\n",
              "      <td>‪+234 810 679 0200‬</td>\n",
              "      <td>Evening dear</td>\n",
              "    </tr>\n",
              "    <tr>\n",
              "      <th>4</th>\n",
              "      <td>[3/29/21</td>\n",
              "      <td>8:32 PM</td>\n",
              "      <td>‪+234 906 647 9833‬</td>\n",
              "      <td>😂😂😂  Forgive ⛑️⛑️⛑️⛑️⛑️ ‎[3/29/21, 8:33:31 PM]...</td>\n",
              "    </tr>\n",
              "  </tbody>\n",
              "</table>\n",
              "</div>"
            ],
            "text/plain": [
              "       Date  ...                                            Message\n",
              "0   [3/4/19  ...            ‎‪+234 706 973 3917‬ created this group\n",
              "1  [3/29/21  ...         ‎You joined using this group's invite link\n",
              "2  [3/29/21  ...                                      Wow Awesome💃💃\n",
              "3  [3/29/21  ...                                       Evening dear\n",
              "4  [3/29/21  ...  😂😂😂  Forgive ⛑️⛑️⛑️⛑️⛑️ ‎[3/29/21, 8:33:31 PM]...\n",
              "\n",
              "[5 rows x 4 columns]"
            ]
          },
          "metadata": {},
          "execution_count": 12
        }
      ]
    },
    {
      "cell_type": "markdown",
      "metadata": {
        "id": "W50PNXpLYjZl"
      },
      "source": [
        "Now, our dataframe is ready, Let's do more cleansing of our dataframe."
      ]
    },
    {
      "cell_type": "markdown",
      "metadata": {
        "id": "qzdvY3buY9tq"
      },
      "source": [
        "First thing first, we need to remove the left square bracket from the date and change it to datetype format.\n"
      ]
    },
    {
      "cell_type": "code",
      "metadata": {
        "id": "0mrCWeIqnAU-"
      },
      "source": [
        "\n",
        "#To remove the \"[\" from the date column\n",
        "\n",
        "df1[\"Date\"] = df1[\"Date\"].apply(lambda x : x.lstrip(\"[\"))\n",
        "\n"
      ],
      "execution_count": 13,
      "outputs": []
    },
    {
      "cell_type": "code",
      "metadata": {
        "id": "E5CrO_ZrsSHA"
      },
      "source": [
        "df1.head(20)"
      ],
      "execution_count": null,
      "outputs": []
    },
    {
      "cell_type": "code",
      "metadata": {
        "colab": {
          "base_uri": "https://localhost:8080/"
        },
        "id": "ug8cdrlrtPTU",
        "outputId": "e7444762-5b0f-41f6-eb54-07e2df30f71d"
      },
      "source": [
        "df1.info() "
      ],
      "execution_count": null,
      "outputs": [
        {
          "output_type": "stream",
          "text": [
            "<class 'pandas.core.frame.DataFrame'>\n",
            "RangeIndex: 2688 entries, 0 to 2687\n",
            "Data columns (total 4 columns):\n",
            " #   Column   Non-Null Count  Dtype \n",
            "---  ------   --------------  ----- \n",
            " 0   Date     2688 non-null   object\n",
            " 1   Time     2688 non-null   object\n",
            " 2   Author   2553 non-null   object\n",
            " 3   Message  2688 non-null   object\n",
            "dtypes: object(4)\n",
            "memory usage: 84.1+ KB\n"
          ],
          "name": "stdout"
        }
      ]
    },
    {
      "cell_type": "markdown",
      "metadata": {
        "id": "wEMW73COv0TT"
      },
      "source": [
        "From the code above the date is not in date type. I need to write a function to change the date from object to date type.\n",
        "\n"
      ]
    },
    {
      "cell_type": "code",
      "metadata": {
        "id": "3Yb9KeKoxho_"
      },
      "source": [
        "#To conver the date to datetime type\n",
        "df1['Date'] = df1['Date'].apply(lambda a : dt.strptime(a, \"%m/%d/%y\"))"
      ],
      "execution_count": 14,
      "outputs": []
    },
    {
      "cell_type": "code",
      "metadata": {
        "colab": {
          "base_uri": "https://localhost:8080/"
        },
        "id": "8DMIyqvqvzDC",
        "outputId": "113341d2-d538-4c21-b80d-adc6ceae6d84"
      },
      "source": [
        "df1.info()"
      ],
      "execution_count": null,
      "outputs": [
        {
          "output_type": "stream",
          "text": [
            "<class 'pandas.core.frame.DataFrame'>\n",
            "RangeIndex: 2688 entries, 0 to 2687\n",
            "Data columns (total 4 columns):\n",
            " #   Column   Non-Null Count  Dtype         \n",
            "---  ------   --------------  -----         \n",
            " 0   Date     2688 non-null   datetime64[ns]\n",
            " 1   Time     2688 non-null   object        \n",
            " 2   Author   2553 non-null   object        \n",
            " 3   Message  2688 non-null   object        \n",
            "dtypes: datetime64[ns](1), object(3)\n",
            "memory usage: 84.1+ KB\n"
          ],
          "name": "stdout"
        }
      ]
    },
    {
      "cell_type": "code",
      "metadata": {
        "colab": {
          "base_uri": "https://localhost:8080/"
        },
        "id": "Ey5GDgKTW4lJ",
        "outputId": "9b8749a2-cd24-4e69-b5f1-8d0644cfdb00"
      },
      "source": [
        "df1.shape"
      ],
      "execution_count": 102,
      "outputs": [
        {
          "output_type": "execute_result",
          "data": {
            "text/plain": [
              "(2688, 4)"
            ]
          },
          "metadata": {},
          "execution_count": 102
        }
      ]
    },
    {
      "cell_type": "markdown",
      "metadata": {
        "id": "OGmQkG5SdGbk"
      },
      "source": [
        "From the above code, we have 2688 rows and 4 columns."
      ]
    },
    {
      "cell_type": "markdown",
      "metadata": {
        "id": "aQOJwq_nkNQL"
      },
      "source": [
        "Messages which have no authors\n"
      ]
    },
    {
      "cell_type": "code",
      "metadata": {
        "colab": {
          "base_uri": "https://localhost:8080/",
          "height": 49
        },
        "id": "Fcg7_bDic-IO",
        "outputId": "96c49b1b-ac5d-4ba3-cfb1-bd391a605142"
      },
      "source": [
        "#To check for author that is null\n",
        "null_authors_df = df1[df1['Author'].isnull()]\n",
        "null_authors_df.head()"
      ],
      "execution_count": 68,
      "outputs": [
        {
          "output_type": "execute_result",
          "data": {
            "text/html": [
              "<div>\n",
              "<style scoped>\n",
              "    .dataframe tbody tr th:only-of-type {\n",
              "        vertical-align: middle;\n",
              "    }\n",
              "\n",
              "    .dataframe tbody tr th {\n",
              "        vertical-align: top;\n",
              "    }\n",
              "\n",
              "    .dataframe thead th {\n",
              "        text-align: right;\n",
              "    }\n",
              "</style>\n",
              "<table border=\"1\" class=\"dataframe\">\n",
              "  <thead>\n",
              "    <tr style=\"text-align: right;\">\n",
              "      <th></th>\n",
              "      <th>Date</th>\n",
              "      <th>Time</th>\n",
              "      <th>Author</th>\n",
              "      <th>Message</th>\n",
              "      <th>Emojis</th>\n",
              "      <th>URL</th>\n",
              "      <th>Day</th>\n",
              "      <th>Month</th>\n",
              "      <th>Number_of_messages</th>\n",
              "    </tr>\n",
              "  </thead>\n",
              "  <tbody>\n",
              "  </tbody>\n",
              "</table>\n",
              "</div>"
            ],
            "text/plain": [
              "Empty DataFrame\n",
              "Columns: [Date, Time, Author, Message, Emojis, URL, Day, Month, Number_of_messages]\n",
              "Index: []"
            ]
          },
          "metadata": {},
          "execution_count": 68
        }
      ]
    },
    {
      "cell_type": "markdown",
      "metadata": {
        "id": "WjVkKHcgcVJk"
      },
      "source": [
        "From the table above, Authors are none beacuse None which is the first element in array indicates few messages which do not have authors like,\n",
        "\n",
        "Group was created.\n",
        "\n",
        "Teja was added and so on.\n",
        "\n",
        "Let us remove the messages created by None"
      ]
    },
    {
      "cell_type": "code",
      "metadata": {
        "id": "Zw9cksddY-z5"
      },
      "source": [
        "# Drops all rows of the data frame containing messages from null authors\n",
        "df1= df1.drop(null_authors_df.index)\n",
        "\n"
      ],
      "execution_count": 69,
      "outputs": []
    },
    {
      "cell_type": "code",
      "metadata": {
        "id": "p7C_En3rSW7j"
      },
      "source": [
        "df1.reset_index(inplace=True, drop=True)"
      ],
      "execution_count": 16,
      "outputs": []
    },
    {
      "cell_type": "code",
      "metadata": {
        "colab": {
          "base_uri": "https://localhost:8080/",
          "height": 204
        },
        "id": "ZMRvXFDwa6V-",
        "outputId": "c72eb9e9-9977-4f0a-e4a7-31c9dce71525"
      },
      "source": [
        "df1.head()"
      ],
      "execution_count": 20,
      "outputs": [
        {
          "output_type": "execute_result",
          "data": {
            "text/html": [
              "<div>\n",
              "<style scoped>\n",
              "    .dataframe tbody tr th:only-of-type {\n",
              "        vertical-align: middle;\n",
              "    }\n",
              "\n",
              "    .dataframe tbody tr th {\n",
              "        vertical-align: top;\n",
              "    }\n",
              "\n",
              "    .dataframe thead th {\n",
              "        text-align: right;\n",
              "    }\n",
              "</style>\n",
              "<table border=\"1\" class=\"dataframe\">\n",
              "  <thead>\n",
              "    <tr style=\"text-align: right;\">\n",
              "      <th></th>\n",
              "      <th>Date</th>\n",
              "      <th>Time</th>\n",
              "      <th>Author</th>\n",
              "      <th>Message</th>\n",
              "    </tr>\n",
              "  </thead>\n",
              "  <tbody>\n",
              "    <tr>\n",
              "      <th>2</th>\n",
              "      <td>2021-03-29</td>\n",
              "      <td>8:31 PM</td>\n",
              "      <td>‪+234 810 679 0200‬</td>\n",
              "      <td>Wow Awesome💃💃</td>\n",
              "    </tr>\n",
              "    <tr>\n",
              "      <th>3</th>\n",
              "      <td>2021-03-29</td>\n",
              "      <td>8:31 PM</td>\n",
              "      <td>‪+234 810 679 0200‬</td>\n",
              "      <td>Evening dear</td>\n",
              "    </tr>\n",
              "    <tr>\n",
              "      <th>4</th>\n",
              "      <td>2021-03-29</td>\n",
              "      <td>8:32 PM</td>\n",
              "      <td>‪+234 906 647 9833‬</td>\n",
              "      <td>😂😂😂  Forgive ⛑️⛑️⛑️⛑️⛑️ ‎[3/29/21, 8:33:31 PM]...</td>\n",
              "    </tr>\n",
              "    <tr>\n",
              "      <th>5</th>\n",
              "      <td>2021-03-29</td>\n",
              "      <td>8:34 PM</td>\n",
              "      <td>Charity</td>\n",
              "      <td>Welcome to this family @2348133241349</td>\n",
              "    </tr>\n",
              "    <tr>\n",
              "      <th>6</th>\n",
              "      <td>2021-03-29</td>\n",
              "      <td>8:48 PM</td>\n",
              "      <td>‪+234 806 665 5843‬</td>\n",
              "      <td>Okay😋</td>\n",
              "    </tr>\n",
              "  </tbody>\n",
              "</table>\n",
              "</div>"
            ],
            "text/plain": [
              "        Date  ...                                            Message\n",
              "2 2021-03-29  ...                                      Wow Awesome💃💃\n",
              "3 2021-03-29  ...                                       Evening dear\n",
              "4 2021-03-29  ...  😂😂😂  Forgive ⛑️⛑️⛑️⛑️⛑️ ‎[3/29/21, 8:33:31 PM]...\n",
              "5 2021-03-29  ...              Welcome to this family @2348133241349\n",
              "6 2021-03-29  ...                                              Okay😋\n",
              "\n",
              "[5 rows x 4 columns]"
            ]
          },
          "metadata": {},
          "execution_count": 20
        }
      ]
    },
    {
      "cell_type": "code",
      "metadata": {
        "colab": {
          "base_uri": "https://localhost:8080/"
        },
        "id": "_FXyw8jbcyTq",
        "outputId": "616b622d-5b24-4bc2-b3ea-85472831b6de"
      },
      "source": [
        "df1.isnull().any()"
      ],
      "execution_count": 21,
      "outputs": [
        {
          "output_type": "execute_result",
          "data": {
            "text/plain": [
              "Date       False\n",
              "Time       False\n",
              "Author     False\n",
              "Message    False\n",
              "dtype: bool"
            ]
          },
          "metadata": {},
          "execution_count": 21
        }
      ]
    },
    {
      "cell_type": "markdown",
      "metadata": {
        "id": "hheH_xXrSmWa"
      },
      "source": [
        "From the code above, we don't have any missing data again in our dataframe."
      ]
    },
    {
      "cell_type": "markdown",
      "metadata": {
        "id": "mHd75xLxhjbK"
      },
      "source": [
        "Now, I want to hide personal information because the Author column is a little problematic and probably will be full of phone numbers.\n",
        "Now, we have a problem: I don’t want to use the name or phone number of those users in the group beacuse phone number and name are sensitive inforamtion in any Country and it won't be nice displaying it. Remember, Data Governance Goals. One of it is to ensure that data is used properly, both to avoid introducing data errors into systems and to block potential misuse of personal data about customers and other sensitive information.\n",
        "I want them to be anonymously identified."
      ]
    },
    {
      "cell_type": "markdown",
      "metadata": {
        "id": "APq5RrarmbQr"
      },
      "source": [
        "\n",
        "We’ll create a dictionary to map each author to a generic name like “Author 1”, “Author 2”, etc. using the unique author."
      ]
    },
    {
      "cell_type": "code",
      "metadata": {
        "id": "KCr6DhJTdozz"
      },
      "source": [
        "#using dict comprehension and enumerate\n",
        "anon_authors = {key: f'Author {value}' for value, key in enumerate(df1.Author.unique())}\n",
        "df1['Author'].replace(anon_authors, inplace=True)"
      ],
      "execution_count": 17,
      "outputs": []
    },
    {
      "cell_type": "code",
      "metadata": {
        "id": "rE1rMblzTjiM",
        "colab": {
          "base_uri": "https://localhost:8080/"
        },
        "outputId": "fe7bbab1-d024-4370-a14c-7f53e945031e"
      },
      "source": [
        "unique_user = df1[\"Author\"].unique()\n",
        "unique_user\n",
        "\n"
      ],
      "execution_count": 18,
      "outputs": [
        {
          "output_type": "execute_result",
          "data": {
            "text/plain": [
              "array(['Author 0', 'Author 1', 'Author 2', 'Author 3', 'Author 4',\n",
              "       'Author 5', 'Author 6', 'Author 7', 'Author 8', 'Author 9',\n",
              "       'Author 10', 'Author 11', 'Author 12', 'Author 13', 'Author 14',\n",
              "       'Author 15', 'Author 16', 'Author 17', 'Author 18', 'Author 19',\n",
              "       'Author 20', 'Author 21', 'Author 22', 'Author 23', 'Author 24',\n",
              "       'Author 25', 'Author 26', 'Author 27', 'Author 28', 'Author 29',\n",
              "       'Author 30', 'Author 31', 'Author 32', 'Author 33', 'Author 34',\n",
              "       'Author 35', 'Author 36', 'Author 37', 'Author 38', 'Author 39',\n",
              "       'Author 40', 'Author 41', 'Author 42', 'Author 43', 'Author 44',\n",
              "       'Author 45', 'Author 46', 'Author 47', 'Author 48', 'Author 49',\n",
              "       'Author 50', 'Author 51', 'Author 52', 'Author 53', 'Author 54',\n",
              "       'Author 55', 'Author 56', 'Author 57', 'Author 58', 'Author 59',\n",
              "       'Author 60', 'Author 61', 'Author 62', 'Author 63', 'Author 64',\n",
              "       'Author 65', 'Author 66', 'Author 67', 'Author 68', 'Author 69',\n",
              "       'Author 70', 'Author 71', 'Author 72', 'Author 73', 'Author 74',\n",
              "       'Author 75', 'Author 76', 'Author 77', 'Author 78', 'Author 79',\n",
              "       'Author 80', 'Author 81', 'Author 82', 'Author 83', 'Author 84',\n",
              "       'Author 85', 'Author 86', 'Author 87', 'Author 88', 'Author 89',\n",
              "       'Author 90', 'Author 91', 'Author 92', 'Author 93', 'Author 94',\n",
              "       'Author 95', 'Author 96', 'Author 97', 'Author 98', 'Author 99',\n",
              "       'Author 100', 'Author 101', 'Author 102', 'Author 103',\n",
              "       'Author 104', 'Author 105', 'Author 106', 'Author 107',\n",
              "       'Author 108', 'Author 109', 'Author 110', 'Author 111',\n",
              "       'Author 112', 'Author 113', 'Author 114', 'Author 115',\n",
              "       'Author 116', 'Author 117', 'Author 118', 'Author 119',\n",
              "       'Author 120', 'Author 121', 'Author 122', 'Author 123',\n",
              "       'Author 124', 'Author 125', 'Author 126', 'Author 127',\n",
              "       'Author 128', 'Author 129', 'Author 130', 'Author 131',\n",
              "       'Author 132', 'Author 133', 'Author 134', 'Author 135',\n",
              "       'Author 136', 'Author 137', 'Author 138', 'Author 139',\n",
              "       'Author 140', 'Author 141', 'Author 142', 'Author 143',\n",
              "       'Author 144', 'Author 145', 'Author 146', 'Author 147',\n",
              "       'Author 148', 'Author 149', 'Author 150', 'Author 151',\n",
              "       'Author 152'], dtype=object)"
            ]
          },
          "metadata": {},
          "execution_count": 18
        }
      ]
    },
    {
      "cell_type": "code",
      "metadata": {
        "colab": {
          "base_uri": "https://localhost:8080/"
        },
        "id": "lVlK3wmIm6Fe",
        "outputId": "79807554-315f-4d31-dab2-06f14339fa8f"
      },
      "source": [
        "len(unique_user)"
      ],
      "execution_count": null,
      "outputs": [
        {
          "output_type": "execute_result",
          "data": {
            "text/plain": [
              "152"
            ]
          },
          "metadata": {},
          "execution_count": 48
        }
      ]
    },
    {
      "cell_type": "markdown",
      "metadata": {
        "id": "umVQdxf1ndLK"
      },
      "source": [
        "## **Extracting Emoji**"
      ]
    },
    {
      "cell_type": "markdown",
      "metadata": {
        "id": "L7haecVlRuHU"
      },
      "source": [
        "We can only get emoji from message. i.e we will  be applying a function on message features to get our emoji and we add it to a  new column."
      ]
    },
    {
      "cell_type": "code",
      "metadata": {
        "id": "FiWUDNBWrasW"
      },
      "source": [
        "pattern = re.compile(r\"|\".join(map(re.escape, emoji.UNICODE_EMOJI[\"en\"])))\n",
        "\n",
        "df1[\"Emojis\"] = df1[\"Message\"].apply(lambda x: \"\".join(pattern.findall(x)))\n",
        "# df[\"Message\"] = df[\"Message\"].apply(lambda x: pattern.sub(\"\", x))\n"
      ],
      "execution_count": 19,
      "outputs": []
    },
    {
      "cell_type": "code",
      "metadata": {
        "id": "w6M2kuUHoglU"
      },
      "source": [
        "# df1.drop(columns=[\"emoji\",\"Emoji\"], inplace=True)"
      ],
      "execution_count": null,
      "outputs": []
    },
    {
      "cell_type": "code",
      "metadata": {
        "colab": {
          "base_uri": "https://localhost:8080/",
          "height": 204
        },
        "id": "rFOMKzn4lwNj",
        "outputId": "9c4c4528-8223-420c-debc-73c11bb4b539"
      },
      "source": [
        "df1.tail()"
      ],
      "execution_count": 25,
      "outputs": [
        {
          "output_type": "execute_result",
          "data": {
            "text/html": [
              "<div>\n",
              "<style scoped>\n",
              "    .dataframe tbody tr th:only-of-type {\n",
              "        vertical-align: middle;\n",
              "    }\n",
              "\n",
              "    .dataframe tbody tr th {\n",
              "        vertical-align: top;\n",
              "    }\n",
              "\n",
              "    .dataframe thead th {\n",
              "        text-align: right;\n",
              "    }\n",
              "</style>\n",
              "<table border=\"1\" class=\"dataframe\">\n",
              "  <thead>\n",
              "    <tr style=\"text-align: right;\">\n",
              "      <th></th>\n",
              "      <th>Date</th>\n",
              "      <th>Time</th>\n",
              "      <th>Author</th>\n",
              "      <th>Message</th>\n",
              "      <th>Emojis</th>\n",
              "    </tr>\n",
              "  </thead>\n",
              "  <tbody>\n",
              "    <tr>\n",
              "      <th>2683</th>\n",
              "      <td>2021-08-17</td>\n",
              "      <td>8:09 AM</td>\n",
              "      <td>Author 94</td>\n",
              "      <td>Thank you very much ma</td>\n",
              "      <td></td>\n",
              "    </tr>\n",
              "    <tr>\n",
              "      <th>2684</th>\n",
              "      <td>2021-08-17</td>\n",
              "      <td>8:57 AM</td>\n",
              "      <td>Author 14</td>\n",
              "      <td>Yes ma'am.  I'm ready</td>\n",
              "      <td></td>\n",
              "    </tr>\n",
              "    <tr>\n",
              "      <th>2685</th>\n",
              "      <td>2021-08-17</td>\n",
              "      <td>6:02 PM</td>\n",
              "      <td>Author 7</td>\n",
              "      <td>More grace ma</td>\n",
              "      <td></td>\n",
              "    </tr>\n",
              "    <tr>\n",
              "      <th>2686</th>\n",
              "      <td>2021-08-17</td>\n",
              "      <td>8:21 PM</td>\n",
              "      <td>Author 14</td>\n",
              "      <td>🙏🏻 ‎[8/17/21, 9:06:52 PM] ‪+234 909 981 5257‬:...</td>\n",
              "      <td>🙏🏻</td>\n",
              "    </tr>\n",
              "    <tr>\n",
              "      <th>2687</th>\n",
              "      <td>2021-08-18</td>\n",
              "      <td>6:20 AM</td>\n",
              "      <td>Author 14</td>\n",
              "      <td>🥰🥰🥰🥰🥰</td>\n",
              "      <td>🥰🥰🥰🥰🥰</td>\n",
              "    </tr>\n",
              "  </tbody>\n",
              "</table>\n",
              "</div>"
            ],
            "text/plain": [
              "           Date  ... Emojis\n",
              "2683 2021-08-17  ...       \n",
              "2684 2021-08-17  ...       \n",
              "2685 2021-08-17  ...       \n",
              "2686 2021-08-17  ...     🙏🏻\n",
              "2687 2021-08-18  ...  🥰🥰🥰🥰🥰\n",
              "\n",
              "[5 rows x 5 columns]"
            ]
          },
          "metadata": {},
          "execution_count": 25
        }
      ]
    },
    {
      "cell_type": "markdown",
      "metadata": {
        "id": "Iz_GCM7OO3cV"
      },
      "source": [
        ""
      ]
    },
    {
      "cell_type": "markdown",
      "metadata": {
        "id": "SsvQGzshSzN3"
      },
      "source": [
        "# **Extracting URL links from message**\n",
        "As we all know url doesn't have space. We will write a regular expresiion that matches all character without space"
      ]
    },
    {
      "cell_type": "code",
      "metadata": {
        "id": "gXE5V9tZPYFw"
      },
      "source": [
        "#Uppercase S matches any character that has no whitespace.\n",
        "URLPATTERN = r'(https?://\\S+)' #defining urlpattern with regular expression\n",
        "df1['URL'] = df1.Message.apply(lambda x: re.findall(URLPATTERN, x))\n"
      ],
      "execution_count": 20,
      "outputs": []
    },
    {
      "cell_type": "markdown",
      "metadata": {
        "id": "1AYkqYZUm5xf"
      },
      "source": [
        "df1\n"
      ]
    },
    {
      "cell_type": "code",
      "metadata": {
        "id": "DcdVUS2RVvpD"
      },
      "source": [
        ""
      ],
      "execution_count": null,
      "outputs": []
    },
    {
      "cell_type": "code",
      "metadata": {
        "colab": {
          "base_uri": "https://localhost:8080/",
          "height": 204
        },
        "id": "xjWI4_AdULST",
        "outputId": "948ecae7-60af-4b34-fa86-061fa4d377b0"
      },
      "source": [
        "df1.tail(5)"
      ],
      "execution_count": 30,
      "outputs": [
        {
          "output_type": "execute_result",
          "data": {
            "text/html": [
              "<div>\n",
              "<style scoped>\n",
              "    .dataframe tbody tr th:only-of-type {\n",
              "        vertical-align: middle;\n",
              "    }\n",
              "\n",
              "    .dataframe tbody tr th {\n",
              "        vertical-align: top;\n",
              "    }\n",
              "\n",
              "    .dataframe thead th {\n",
              "        text-align: right;\n",
              "    }\n",
              "</style>\n",
              "<table border=\"1\" class=\"dataframe\">\n",
              "  <thead>\n",
              "    <tr style=\"text-align: right;\">\n",
              "      <th></th>\n",
              "      <th>Date</th>\n",
              "      <th>Time</th>\n",
              "      <th>Author</th>\n",
              "      <th>Message</th>\n",
              "      <th>Emojis</th>\n",
              "      <th>URL</th>\n",
              "    </tr>\n",
              "  </thead>\n",
              "  <tbody>\n",
              "    <tr>\n",
              "      <th>2683</th>\n",
              "      <td>2021-08-17</td>\n",
              "      <td>8:09 AM</td>\n",
              "      <td>Author 94</td>\n",
              "      <td>Thank you very much ma</td>\n",
              "      <td></td>\n",
              "      <td>[]</td>\n",
              "    </tr>\n",
              "    <tr>\n",
              "      <th>2684</th>\n",
              "      <td>2021-08-17</td>\n",
              "      <td>8:57 AM</td>\n",
              "      <td>Author 14</td>\n",
              "      <td>Yes ma'am.  I'm ready</td>\n",
              "      <td></td>\n",
              "      <td>[]</td>\n",
              "    </tr>\n",
              "    <tr>\n",
              "      <th>2685</th>\n",
              "      <td>2021-08-17</td>\n",
              "      <td>6:02 PM</td>\n",
              "      <td>Author 7</td>\n",
              "      <td>More grace ma</td>\n",
              "      <td></td>\n",
              "      <td>[]</td>\n",
              "    </tr>\n",
              "    <tr>\n",
              "      <th>2686</th>\n",
              "      <td>2021-08-17</td>\n",
              "      <td>8:21 PM</td>\n",
              "      <td>Author 14</td>\n",
              "      <td>🙏🏻 ‎[8/17/21, 9:06:52 PM] ‪+234 909 981 5257‬:...</td>\n",
              "      <td>🙏🏻</td>\n",
              "      <td>[]</td>\n",
              "    </tr>\n",
              "    <tr>\n",
              "      <th>2687</th>\n",
              "      <td>2021-08-18</td>\n",
              "      <td>6:20 AM</td>\n",
              "      <td>Author 14</td>\n",
              "      <td>🥰🥰🥰🥰🥰</td>\n",
              "      <td>🥰🥰🥰🥰🥰</td>\n",
              "      <td>[]</td>\n",
              "    </tr>\n",
              "  </tbody>\n",
              "</table>\n",
              "</div>"
            ],
            "text/plain": [
              "           Date     Time  ... Emojis URL\n",
              "2683 2021-08-17  8:09 AM  ...         []\n",
              "2684 2021-08-17  8:57 AM  ...         []\n",
              "2685 2021-08-17  6:02 PM  ...         []\n",
              "2686 2021-08-17  8:21 PM  ...     🙏🏻  []\n",
              "2687 2021-08-18  6:20 AM  ...  🥰🥰🥰🥰🥰  []\n",
              "\n",
              "[5 rows x 6 columns]"
            ]
          },
          "metadata": {},
          "execution_count": 30
        }
      ]
    },
    {
      "cell_type": "markdown",
      "metadata": {
        "id": "a5xqES3mWNV2"
      },
      "source": [
        "## **NUMBER OF TOTAL MESSAGES**"
      ]
    },
    {
      "cell_type": "code",
      "metadata": {
        "colab": {
          "base_uri": "https://localhost:8080/"
        },
        "id": "wxulIH0cWSx1",
        "outputId": "479442ce-e476-4c85-e1dd-fc666f66683b"
      },
      "source": [
        "TotalNumberOfMessage = df1[\"Message\"].count()\n",
        "TotalNumberOfMessage"
      ],
      "execution_count": 21,
      "outputs": [
        {
          "output_type": "execute_result",
          "data": {
            "text/plain": [
              "2688"
            ]
          },
          "metadata": {},
          "execution_count": 21
        }
      ]
    },
    {
      "cell_type": "code",
      "metadata": {
        "colab": {
          "base_uri": "https://localhost:8080/",
          "height": 35
        },
        "id": "t9kYxqFZA9oG",
        "outputId": "a8922250-1cf7-4d4c-d152-797b4f095f56"
      },
      "source": [
        "f\"The total number of messages: {TotalNumberOfMessage}\""
      ],
      "execution_count": 28,
      "outputs": [
        {
          "output_type": "execute_result",
          "data": {
            "application/vnd.google.colaboratory.intrinsic+json": {
              "type": "string"
            },
            "text/plain": [
              "'The total number of messages: 2688'"
            ]
          },
          "metadata": {},
          "execution_count": 28
        }
      ]
    },
    {
      "cell_type": "markdown",
      "metadata": {
        "id": "767fTEOcbjle"
      },
      "source": [
        "## **TOTAL NUMBERS OF URL LINKS**"
      ]
    },
    {
      "cell_type": "code",
      "metadata": {
        "colab": {
          "base_uri": "https://localhost:8080/"
        },
        "id": "Ryjd7phSa_q9",
        "outputId": "ed920b67-13f7-4136-e372-b154a27b1a2a"
      },
      "source": [
        "TotalNumberOfUrl = df1.Message.apply(lambda x: re.findall(URLPATTERN, x)).str.len()\n",
        "TotalNumberOfUrl = np.sum(TotalNumberOfUrl)\n",
        "TotalNumberOfUrl"
      ],
      "execution_count": 26,
      "outputs": [
        {
          "output_type": "execute_result",
          "data": {
            "text/plain": [
              "69"
            ]
          },
          "metadata": {},
          "execution_count": 26
        }
      ]
    },
    {
      "cell_type": "code",
      "metadata": {
        "colab": {
          "base_uri": "https://localhost:8080/",
          "height": 35
        },
        "id": "eUiy8mPqBOfg",
        "outputId": "12606eaa-390c-44f3-c603-92f073ee5f06"
      },
      "source": [
        "f\"The total number of url links: {TotalNumberOfUrl}\""
      ],
      "execution_count": 29,
      "outputs": [
        {
          "output_type": "execute_result",
          "data": {
            "application/vnd.google.colaboratory.intrinsic+json": {
              "type": "string"
            },
            "text/plain": [
              "'The total number of url links: 69'"
            ]
          },
          "metadata": {},
          "execution_count": 29
        }
      ]
    },
    {
      "cell_type": "markdown",
      "metadata": {
        "id": "g3bPVvUSboc2"
      },
      "source": [
        "TOTAL NUMBERS OF MEDIA"
      ]
    },
    {
      "cell_type": "code",
      "metadata": {
        "colab": {
          "base_uri": "https://localhost:8080/"
        },
        "id": "V6RIqXhMbg3n",
        "outputId": "753683cd-0322-487c-8424-d258d0304f95"
      },
      "source": [
        "MEDIAPATTERN = r'<Media omitted>'\n",
        "TotalNumberOfMedia= df1.Message.apply(lambda x : re.findall(MEDIAPATTERN, x)).str.len()\n",
        "TotalNumberOfMedia = np.sum(TotalNumberOfMedia)\n",
        "TotalNumberOfMedia"
      ],
      "execution_count": 30,
      "outputs": [
        {
          "output_type": "execute_result",
          "data": {
            "text/plain": [
              "0"
            ]
          },
          "metadata": {},
          "execution_count": 30
        }
      ]
    },
    {
      "cell_type": "markdown",
      "metadata": {
        "id": "cqsG2sK7BnU3"
      },
      "source": [
        "From the code, we don't have media files because we didn't export the chat with media."
      ]
    },
    {
      "cell_type": "markdown",
      "metadata": {
        "id": "6uISO0Chd1b6"
      },
      "source": [
        "## **TOTAL NUMBER OF EMOJIS IN THE GROUP**"
      ]
    },
    {
      "cell_type": "code",
      "metadata": {
        "colab": {
          "base_uri": "https://localhost:8080/"
        },
        "id": "ziAwxo-pceMk",
        "outputId": "fe71e7da-cb43-4036-ba61-72d05df4f1f9"
      },
      "source": [
        "pattern = re.compile(r\"|\".join(map(re.escape, emoji.UNICODE_EMOJI[\"en\"])))\n",
        "TotalNumberOfEmoji = df1[\"Message\"].apply(lambda x: \"\".join(pattern.findall(x))).str.len()\n",
        "TotalNumberOfEmoji = np.sum(TotalNumberOfEmoji)\n",
        "TotalNumberOfEmoji"
      ],
      "execution_count": 31,
      "outputs": [
        {
          "output_type": "execute_result",
          "data": {
            "text/plain": [
              "3886"
            ]
          },
          "metadata": {},
          "execution_count": 31
        }
      ]
    },
    {
      "cell_type": "code",
      "metadata": {
        "colab": {
          "base_uri": "https://localhost:8080/",
          "height": 35
        },
        "id": "wD_DY2tEBaFv",
        "outputId": "ae1baa8c-7667-4038-d0ee-ff38f39b95ef"
      },
      "source": [
        "f\"The total number of emojis: {TotalNumberOfMessage}\""
      ],
      "execution_count": 32,
      "outputs": [
        {
          "output_type": "execute_result",
          "data": {
            "application/vnd.google.colaboratory.intrinsic+json": {
              "type": "string"
            },
            "text/plain": [
              "'The total number of emojis: 2688'"
            ]
          },
          "metadata": {},
          "execution_count": 32
        }
      ]
    },
    {
      "cell_type": "code",
      "metadata": {
        "colab": {
          "base_uri": "https://localhost:8080/",
          "height": 204
        },
        "id": "UwckqMK2ZaUS",
        "outputId": "093bd20a-e3c6-4fdb-e202-a3061f067291"
      },
      "source": [
        " df1.head()"
      ],
      "execution_count": 35,
      "outputs": [
        {
          "output_type": "execute_result",
          "data": {
            "text/html": [
              "<div>\n",
              "<style scoped>\n",
              "    .dataframe tbody tr th:only-of-type {\n",
              "        vertical-align: middle;\n",
              "    }\n",
              "\n",
              "    .dataframe tbody tr th {\n",
              "        vertical-align: top;\n",
              "    }\n",
              "\n",
              "    .dataframe thead th {\n",
              "        text-align: right;\n",
              "    }\n",
              "</style>\n",
              "<table border=\"1\" class=\"dataframe\">\n",
              "  <thead>\n",
              "    <tr style=\"text-align: right;\">\n",
              "      <th></th>\n",
              "      <th>Date</th>\n",
              "      <th>Time</th>\n",
              "      <th>Author</th>\n",
              "      <th>Message</th>\n",
              "      <th>Emojis</th>\n",
              "      <th>URL</th>\n",
              "    </tr>\n",
              "  </thead>\n",
              "  <tbody>\n",
              "    <tr>\n",
              "      <th>2</th>\n",
              "      <td>2021-03-29</td>\n",
              "      <td>8:31 PM</td>\n",
              "      <td>Author 0</td>\n",
              "      <td>Wow Awesome💃💃</td>\n",
              "      <td>💃💃</td>\n",
              "      <td>[]</td>\n",
              "    </tr>\n",
              "    <tr>\n",
              "      <th>3</th>\n",
              "      <td>2021-03-29</td>\n",
              "      <td>8:31 PM</td>\n",
              "      <td>Author 0</td>\n",
              "      <td>Evening dear</td>\n",
              "      <td></td>\n",
              "      <td>[]</td>\n",
              "    </tr>\n",
              "    <tr>\n",
              "      <th>4</th>\n",
              "      <td>2021-03-29</td>\n",
              "      <td>8:32 PM</td>\n",
              "      <td>Author 1</td>\n",
              "      <td>😂😂😂  Forgive ⛑️⛑️⛑️⛑️⛑️ ‎[3/29/21, 8:33:31 PM]...</td>\n",
              "      <td>😂😂😂⛑⛑⛑⛑⛑</td>\n",
              "      <td>[]</td>\n",
              "    </tr>\n",
              "    <tr>\n",
              "      <th>5</th>\n",
              "      <td>2021-03-29</td>\n",
              "      <td>8:34 PM</td>\n",
              "      <td>Author 2</td>\n",
              "      <td>Welcome to this family @2348133241349</td>\n",
              "      <td></td>\n",
              "      <td>[]</td>\n",
              "    </tr>\n",
              "    <tr>\n",
              "      <th>6</th>\n",
              "      <td>2021-03-29</td>\n",
              "      <td>8:48 PM</td>\n",
              "      <td>Author 3</td>\n",
              "      <td>Okay😋</td>\n",
              "      <td>😋</td>\n",
              "      <td>[]</td>\n",
              "    </tr>\n",
              "  </tbody>\n",
              "</table>\n",
              "</div>"
            ],
            "text/plain": [
              "        Date     Time  ...    Emojis URL\n",
              "2 2021-03-29  8:31 PM  ...        💃💃  []\n",
              "3 2021-03-29  8:31 PM  ...            []\n",
              "4 2021-03-29  8:32 PM  ...  😂😂😂⛑⛑⛑⛑⛑  []\n",
              "5 2021-03-29  8:34 PM  ...            []\n",
              "6 2021-03-29  8:48 PM  ...         😋  []\n",
              "\n",
              "[5 rows x 6 columns]"
            ]
          },
          "metadata": {},
          "execution_count": 35
        }
      ]
    },
    {
      "cell_type": "code",
      "metadata": {
        "id": "xXO36HLzY4hQ",
        "colab": {
          "base_uri": "https://localhost:8080/"
        },
        "outputId": "0d56ba06-0a93-48c4-a9a4-a4260160e544"
      },
      "source": [
        "#To check the column in the dataframe\n",
        "df1.shape[1]"
      ],
      "execution_count": 33,
      "outputs": [
        {
          "output_type": "execute_result",
          "data": {
            "text/plain": [
              "6"
            ]
          },
          "metadata": {},
          "execution_count": 33
        }
      ]
    },
    {
      "cell_type": "code",
      "metadata": {
        "id": "6VtNpkz8rGtN"
      },
      "source": [
        "df1.tail(3)"
      ],
      "execution_count": null,
      "outputs": []
    },
    {
      "cell_type": "code",
      "metadata": {
        "colab": {
          "base_uri": "https://localhost:8080/",
          "height": 204
        },
        "id": "xyAoTtQzOcqt",
        "outputId": "10232bfc-b31d-44ed-cd0a-ee9023daf885"
      },
      "source": [
        "df1.head()"
      ],
      "execution_count": null,
      "outputs": [
        {
          "output_type": "execute_result",
          "data": {
            "text/html": [
              "<div>\n",
              "<style scoped>\n",
              "    .dataframe tbody tr th:only-of-type {\n",
              "        vertical-align: middle;\n",
              "    }\n",
              "\n",
              "    .dataframe tbody tr th {\n",
              "        vertical-align: top;\n",
              "    }\n",
              "\n",
              "    .dataframe thead th {\n",
              "        text-align: right;\n",
              "    }\n",
              "</style>\n",
              "<table border=\"1\" class=\"dataframe\">\n",
              "  <thead>\n",
              "    <tr style=\"text-align: right;\">\n",
              "      <th></th>\n",
              "      <th>Date</th>\n",
              "      <th>Time</th>\n",
              "      <th>Author</th>\n",
              "      <th>Message</th>\n",
              "      <th>Emojis</th>\n",
              "      <th>URL</th>\n",
              "    </tr>\n",
              "  </thead>\n",
              "  <tbody>\n",
              "    <tr>\n",
              "      <th>0</th>\n",
              "      <td>2021-03-29</td>\n",
              "      <td>8:31 PM</td>\n",
              "      <td>Author 0</td>\n",
              "      <td>Wow Awesome💃💃</td>\n",
              "      <td>💃💃</td>\n",
              "      <td>[]</td>\n",
              "    </tr>\n",
              "    <tr>\n",
              "      <th>1</th>\n",
              "      <td>2021-03-29</td>\n",
              "      <td>8:31 PM</td>\n",
              "      <td>Author 0</td>\n",
              "      <td>Evening dear</td>\n",
              "      <td></td>\n",
              "      <td>[]</td>\n",
              "    </tr>\n",
              "    <tr>\n",
              "      <th>2</th>\n",
              "      <td>2021-03-29</td>\n",
              "      <td>8:32 PM</td>\n",
              "      <td>Author 1</td>\n",
              "      <td>😂😂😂  Forgive ⛑️⛑️⛑️⛑️⛑️ ‎[3/29/21, 8:33:31 PM]...</td>\n",
              "      <td>😂😂😂⛑⛑⛑⛑⛑</td>\n",
              "      <td>[]</td>\n",
              "    </tr>\n",
              "    <tr>\n",
              "      <th>3</th>\n",
              "      <td>2021-03-29</td>\n",
              "      <td>8:34 PM</td>\n",
              "      <td>Author 2</td>\n",
              "      <td>Welcome to this family @2348133241349</td>\n",
              "      <td></td>\n",
              "      <td>[]</td>\n",
              "    </tr>\n",
              "    <tr>\n",
              "      <th>4</th>\n",
              "      <td>2021-03-29</td>\n",
              "      <td>8:48 PM</td>\n",
              "      <td>Author 3</td>\n",
              "      <td>Okay😋</td>\n",
              "      <td>😋</td>\n",
              "      <td>[]</td>\n",
              "    </tr>\n",
              "  </tbody>\n",
              "</table>\n",
              "</div>"
            ],
            "text/plain": [
              "        Date     Time  ...    Emojis URL\n",
              "0 2021-03-29  8:31 PM  ...        💃💃  []\n",
              "1 2021-03-29  8:31 PM  ...            []\n",
              "2 2021-03-29  8:32 PM  ...  😂😂😂⛑⛑⛑⛑⛑  []\n",
              "3 2021-03-29  8:34 PM  ...            []\n",
              "4 2021-03-29  8:48 PM  ...         😋  []\n",
              "\n",
              "[5 rows x 6 columns]"
            ]
          },
          "metadata": {},
          "execution_count": 39
        }
      ]
    },
    {
      "cell_type": "markdown",
      "metadata": {
        "id": "vlMwAmRIyogu"
      },
      "source": [
        "## **Number of Messages by Unique Author**"
      ]
    },
    {
      "cell_type": "code",
      "metadata": {
        "colab": {
          "base_uri": "https://localhost:8080/",
          "height": 359
        },
        "id": "QTTaYvusuNPD",
        "outputId": "789bb7fc-c262-44be-91d7-638f71530b14"
      },
      "source": [
        "# Creating a new dataframe(Author_df) by copying the old dataframe\n",
        "df2 = df1.copy()\n",
        "df2['Number_of_messages'] = [1]* df2.shape[0]\n",
        "df2.drop(columns = ['Date','Time',\"URL\"], inplace = True)\n",
        "\n",
        "#We are groupby the user and messages together then we will use count() to count the messages for each of user\n",
        "df2 = df2.groupby('Author')['Number_of_messages'].count().sort_values(ascending = False).reset_index() \n",
        "author_of_group = df2[:10]\n",
        "author_of_group\n"
      ],
      "execution_count": 36,
      "outputs": [
        {
          "output_type": "execute_result",
          "data": {
            "text/html": [
              "<div>\n",
              "<style scoped>\n",
              "    .dataframe tbody tr th:only-of-type {\n",
              "        vertical-align: middle;\n",
              "    }\n",
              "\n",
              "    .dataframe tbody tr th {\n",
              "        vertical-align: top;\n",
              "    }\n",
              "\n",
              "    .dataframe thead th {\n",
              "        text-align: right;\n",
              "    }\n",
              "</style>\n",
              "<table border=\"1\" class=\"dataframe\">\n",
              "  <thead>\n",
              "    <tr style=\"text-align: right;\">\n",
              "      <th></th>\n",
              "      <th>Author</th>\n",
              "      <th>Number_of_messages</th>\n",
              "    </tr>\n",
              "  </thead>\n",
              "  <tbody>\n",
              "    <tr>\n",
              "      <th>0</th>\n",
              "      <td>Author 15</td>\n",
              "      <td>282</td>\n",
              "    </tr>\n",
              "    <tr>\n",
              "      <th>1</th>\n",
              "      <td>Author 75</td>\n",
              "      <td>145</td>\n",
              "    </tr>\n",
              "    <tr>\n",
              "      <th>2</th>\n",
              "      <td>Author 0</td>\n",
              "      <td>135</td>\n",
              "    </tr>\n",
              "    <tr>\n",
              "      <th>3</th>\n",
              "      <td>Author 6</td>\n",
              "      <td>124</td>\n",
              "    </tr>\n",
              "    <tr>\n",
              "      <th>4</th>\n",
              "      <td>Author 14</td>\n",
              "      <td>109</td>\n",
              "    </tr>\n",
              "    <tr>\n",
              "      <th>5</th>\n",
              "      <td>Author 38</td>\n",
              "      <td>101</td>\n",
              "    </tr>\n",
              "    <tr>\n",
              "      <th>6</th>\n",
              "      <td>Author 2</td>\n",
              "      <td>99</td>\n",
              "    </tr>\n",
              "    <tr>\n",
              "      <th>7</th>\n",
              "      <td>Author 128</td>\n",
              "      <td>97</td>\n",
              "    </tr>\n",
              "    <tr>\n",
              "      <th>8</th>\n",
              "      <td>Author 50</td>\n",
              "      <td>96</td>\n",
              "    </tr>\n",
              "    <tr>\n",
              "      <th>9</th>\n",
              "      <td>Author 70</td>\n",
              "      <td>89</td>\n",
              "    </tr>\n",
              "  </tbody>\n",
              "</table>\n",
              "</div>"
            ],
            "text/plain": [
              "       Author  Number_of_messages\n",
              "0   Author 15                 282\n",
              "1   Author 75                 145\n",
              "2    Author 0                 135\n",
              "3    Author 6                 124\n",
              "4   Author 14                 109\n",
              "5   Author 38                 101\n",
              "6    Author 2                  99\n",
              "7  Author 128                  97\n",
              "8   Author 50                  96\n",
              "9   Author 70                  89"
            ]
          },
          "metadata": {},
          "execution_count": 36
        }
      ]
    },
    {
      "cell_type": "markdown",
      "metadata": {
        "id": "uxogGehaF3MY"
      },
      "source": [
        ""
      ]
    },
    {
      "cell_type": "code",
      "metadata": {
        "colab": {
          "base_uri": "https://localhost:8080/",
          "height": 671
        },
        "id": "fbZ3W5xPF-2m",
        "outputId": "d95178eb-875f-4b81-8660-66cf04ba646b"
      },
      "source": [
        "sns.set_style('darkgrid')\n",
        "matplotlib.rcParams['figure.figsize'] = (12, 10)\n",
        "\n",
        "plt.title(\"Most active Author in the Group\")\n",
        "barplot = sns.barplot(data=author_of_group, x=\"Author\", y=\"Number_of_messages\", hue=\"Author\", palette=\"CMRmap\", dodge=False)\n",
        "barplot.set_xticklabels(rotation=50, labels=author_of_group.Author)\n",
        "plt.ylabel(\"Number_of_messages\")\n",
        "plt.show()"
      ],
      "execution_count": 37,
      "outputs": [
        {
          "output_type": "display_data",
          "data": {
            "image/png": "[encoded data removed]",
            "text/plain": [
              "<Figure size 864x720 with 1 Axes>"
            ]
          },
          "metadata": {}
        }
      ]
    },
    {
      "cell_type": "markdown",
      "metadata": {
        "id": "iCxXL7lvHC5N"
      },
      "source": [
        "From the chart above, the most active Author in the group is Author 14. The Author might be posting more content everyday."
      ]
    },
    {
      "cell_type": "markdown",
      "metadata": {
        "id": "gITvQ3YeiDak"
      },
      "source": [
        "## **Emoji Used in the Group**"
      ]
    },
    {
      "cell_type": "code",
      "metadata": {
        "id": "Czvq3YuzigmT"
      },
      "source": [
        "df3 = df1.copy()\n",
        "\n",
        "emoji_counter = Counter()\n",
        "\n",
        "emoji_list = list(emoji.UNICODE_EMOJI_ENGLISH.keys())\n",
        "r = re.compile('|'.join(re.escape(p) for p in emoji_list))\n",
        "#print(r)\n",
        "for index, row in df3.iterrows():\n",
        "    emoji_found = r.findall(row[\"Message\"])\n",
        "    for emojis in emoji_found:\n",
        "        emoji_counter[emojis] += 1"
      ],
      "execution_count": 43,
      "outputs": []
    },
    {
      "cell_type": "code",
      "metadata": {
        "colab": {
          "base_uri": "https://localhost:8080/"
        },
        "id": "laSx2vL8incu",
        "outputId": "c9d00f69-7095-41f2-a931-237298d2bbea"
      },
      "source": [
        "emojis_df = pd.DataFrame()\n",
        "emojis_df['emoji'] = [''] * 5\n",
        "emojis_df['number_of_Emoji'] = [0] * 5\n",
        "\n",
        "i = 0\n",
        "for item in emoji_counter.most_common(5):\n",
        "    emojis_df.emoji[i] = item[0]\n",
        "    emojis_df.number_of_Emoji[i] = int(item[1])\n",
        "    i += 1\n"
      ],
      "execution_count": 44,
      "outputs": [
        {
          "output_type": "stream",
          "text": [
            "/usr/local/lib/python3.7/dist-packages/ipykernel_launcher.py:7: SettingWithCopyWarning:\n",
            "\n",
            "\n",
            "A value is trying to be set on a copy of a slice from a DataFrame\n",
            "\n",
            "See the caveats in the documentation: https://pandas.pydata.org/pandas-docs/stable/user_guide/indexing.html#returning-a-view-versus-a-copy\n",
            "\n",
            "/usr/local/lib/python3.7/dist-packages/ipykernel_launcher.py:8: SettingWithCopyWarning:\n",
            "\n",
            "\n",
            "A value is trying to be set on a copy of a slice from a DataFrame\n",
            "\n",
            "See the caveats in the documentation: https://pandas.pydata.org/pandas-docs/stable/user_guide/indexing.html#returning-a-view-versus-a-copy\n",
            "\n"
          ],
          "name": "stderr"
        }
      ]
    },
    {
      "cell_type": "code",
      "metadata": {
        "colab": {
          "base_uri": "https://localhost:8080/",
          "height": 204
        },
        "id": "VWYM7y4xjauY",
        "outputId": "8b4bc32c-97ba-40f6-bf28-918557fbd9f4"
      },
      "source": [
        "emojis_df"
      ],
      "execution_count": 45,
      "outputs": [
        {
          "output_type": "execute_result",
          "data": {
            "text/html": [
              "<div>\n",
              "<style scoped>\n",
              "    .dataframe tbody tr th:only-of-type {\n",
              "        vertical-align: middle;\n",
              "    }\n",
              "\n",
              "    .dataframe tbody tr th {\n",
              "        vertical-align: top;\n",
              "    }\n",
              "\n",
              "    .dataframe thead th {\n",
              "        text-align: right;\n",
              "    }\n",
              "</style>\n",
              "<table border=\"1\" class=\"dataframe\">\n",
              "  <thead>\n",
              "    <tr style=\"text-align: right;\">\n",
              "      <th></th>\n",
              "      <th>emoji</th>\n",
              "      <th>number_of_Emoji</th>\n",
              "    </tr>\n",
              "  </thead>\n",
              "  <tbody>\n",
              "    <tr>\n",
              "      <th>0</th>\n",
              "      <td>🔥</td>\n",
              "      <td>279</td>\n",
              "    </tr>\n",
              "    <tr>\n",
              "      <th>1</th>\n",
              "      <td>🏻</td>\n",
              "      <td>249</td>\n",
              "    </tr>\n",
              "    <tr>\n",
              "      <th>2</th>\n",
              "      <td>👏</td>\n",
              "      <td>229</td>\n",
              "    </tr>\n",
              "    <tr>\n",
              "      <th>3</th>\n",
              "      <td>💃</td>\n",
              "      <td>203</td>\n",
              "    </tr>\n",
              "    <tr>\n",
              "      <th>4</th>\n",
              "      <td>🥰</td>\n",
              "      <td>187</td>\n",
              "    </tr>\n",
              "  </tbody>\n",
              "</table>\n",
              "</div>"
            ],
            "text/plain": [
              "  emoji  number_of_Emoji\n",
              "0     🔥              279\n",
              "1     🏻              249\n",
              "2     👏              229\n",
              "3     💃              203\n",
              "4     🥰              187"
            ]
          },
          "metadata": {},
          "execution_count": 45
        }
      ]
    },
    {
      "cell_type": "markdown",
      "metadata": {
        "id": "NEzP8d_Hif9a"
      },
      "source": [
        "From the dataframe above, emoji Fire is the most used emoji in the group. This shows the group is full of vibes and probably users are enjoying the content being share in the group."
      ]
    },
    {
      "cell_type": "markdown",
      "metadata": {
        "id": "_tlQeBe4CitV"
      },
      "source": [
        "### **EMOJI USED BY THE UNIQUE AUTHORS**"
      ]
    },
    {
      "cell_type": "markdown",
      "metadata": {
        "id": "9rI4DeHXkIJ1"
      },
      "source": [
        "Now we want to know which emoji is  widely used the most by each of the users. But since the first results only create \n",
        "We need to create a dataframe contain user and emojio they used."
      ]
    },
    {
      "cell_type": "code",
      "metadata": {
        "id": "0A_quZUi58RU"
      },
      "source": [
        "\n",
        "user_emoji_df = df1.copy()\n",
        "\n",
        "user_emoji_counter = Counter()\n",
        "emoji_list = list(emoji.UNICODE_EMOJI_ENGLISH.keys())\n",
        "r = re.compile('|'.join(re.escape(p) for p in emoji_list))\n",
        "\n",
        "for index, row in df3.iterrows():\n",
        "    emoji_found = r.findall(row[\"Message\"])\n",
        "    for emojis in emoji_found:\n",
        "        emoji_counter[emojis] += 1\n",
        "\n"
      ],
      "execution_count": 46,
      "outputs": []
    },
    {
      "cell_type": "code",
      "metadata": {
        "id": "_M4fR3zPh1bi"
      },
      "source": [
        "def get_emoji(x):\n",
        "    c = Counter()\n",
        "    found = r.findall(x)\n",
        "    for emoji_found in found:\n",
        "        c[emoji_found] += 1\n",
        "    return dict(c)"
      ],
      "execution_count": 47,
      "outputs": []
    },
    {
      "cell_type": "code",
      "metadata": {
        "id": "lHMz_eBFh5uH"
      },
      "source": [
        "# creating the feutures for  Number of Messages\n",
        "user_emoji_df[\"No.of Emojis\"] = user_emoji_df[\"Message\"].apply(lambda x : get_emoji(x))"
      ],
      "execution_count": 48,
      "outputs": []
    },
    {
      "cell_type": "code",
      "metadata": {
        "colab": {
          "base_uri": "https://localhost:8080/",
          "height": 204
        },
        "id": "j-pX9ThIN8YJ",
        "outputId": "b55e9559-1fe9-4bdc-acf9-0ea3306c2f60"
      },
      "source": [
        "user_emoji_df.head()"
      ],
      "execution_count": 40,
      "outputs": [
        {
          "output_type": "execute_result",
          "data": {
            "text/html": [
              "<div>\n",
              "<style scoped>\n",
              "    .dataframe tbody tr th:only-of-type {\n",
              "        vertical-align: middle;\n",
              "    }\n",
              "\n",
              "    .dataframe tbody tr th {\n",
              "        vertical-align: top;\n",
              "    }\n",
              "\n",
              "    .dataframe thead th {\n",
              "        text-align: right;\n",
              "    }\n",
              "</style>\n",
              "<table border=\"1\" class=\"dataframe\">\n",
              "  <thead>\n",
              "    <tr style=\"text-align: right;\">\n",
              "      <th></th>\n",
              "      <th>Date</th>\n",
              "      <th>Time</th>\n",
              "      <th>Author</th>\n",
              "      <th>Message</th>\n",
              "      <th>Emojis</th>\n",
              "      <th>URL</th>\n",
              "    </tr>\n",
              "  </thead>\n",
              "  <tbody>\n",
              "    <tr>\n",
              "      <th>0</th>\n",
              "      <td>2019-03-04</td>\n",
              "      <td>8:42 PM</td>\n",
              "      <td>Author 0</td>\n",
              "      <td>‎‪+234 706 973 3917‬ created this group</td>\n",
              "      <td></td>\n",
              "      <td>[]</td>\n",
              "    </tr>\n",
              "    <tr>\n",
              "      <th>1</th>\n",
              "      <td>2021-03-29</td>\n",
              "      <td>8:30 PM</td>\n",
              "      <td>Author 0</td>\n",
              "      <td>‎You joined using this group's invite link</td>\n",
              "      <td></td>\n",
              "      <td>[]</td>\n",
              "    </tr>\n",
              "    <tr>\n",
              "      <th>2</th>\n",
              "      <td>2021-03-29</td>\n",
              "      <td>8:31 PM</td>\n",
              "      <td>Author 1</td>\n",
              "      <td>Wow Awesome💃💃</td>\n",
              "      <td>💃💃</td>\n",
              "      <td>[]</td>\n",
              "    </tr>\n",
              "    <tr>\n",
              "      <th>3</th>\n",
              "      <td>2021-03-29</td>\n",
              "      <td>8:31 PM</td>\n",
              "      <td>Author 1</td>\n",
              "      <td>Evening dear</td>\n",
              "      <td></td>\n",
              "      <td>[]</td>\n",
              "    </tr>\n",
              "    <tr>\n",
              "      <th>4</th>\n",
              "      <td>2021-03-29</td>\n",
              "      <td>8:32 PM</td>\n",
              "      <td>Author 2</td>\n",
              "      <td>😂😂😂  Forgive ⛑️⛑️⛑️⛑️⛑️ ‎[3/29/21, 8:33:31 PM]...</td>\n",
              "      <td>😂😂😂⛑⛑⛑⛑⛑</td>\n",
              "      <td>[]</td>\n",
              "    </tr>\n",
              "  </tbody>\n",
              "</table>\n",
              "</div>"
            ],
            "text/plain": [
              "        Date     Time  ...    Emojis URL\n",
              "0 2019-03-04  8:42 PM  ...            []\n",
              "1 2021-03-29  8:30 PM  ...            []\n",
              "2 2021-03-29  8:31 PM  ...        💃💃  []\n",
              "3 2021-03-29  8:31 PM  ...            []\n",
              "4 2021-03-29  8:32 PM  ...  😂😂😂⛑⛑⛑⛑⛑  []\n",
              "\n",
              "[5 rows x 6 columns]"
            ]
          },
          "metadata": {},
          "execution_count": 40
        }
      ]
    },
    {
      "cell_type": "markdown",
      "metadata": {
        "id": "oJsFr3leJ6N8"
      },
      "source": [
        "From the chart, We can see the emojis by the unique users"
      ]
    },
    {
      "cell_type": "markdown",
      "metadata": {
        "id": "zOpdFe1MMaus"
      },
      "source": [
        "### **MORE INSIGHT**\n",
        "NOw, Let's draw more information by adding month, day to the group"
      ]
    },
    {
      "cell_type": "code",
      "metadata": {
        "id": "A1dpNMvL7Stu",
        "colab": {
          "base_uri": "https://localhost:8080/",
          "height": 204
        },
        "outputId": "00450cdb-86d7-4669-9406-0979bc42d952"
      },
      "source": [
        "df1.head()"
      ],
      "execution_count": 130,
      "outputs": [
        {
          "output_type": "execute_result",
          "data": {
            "text/html": [
              "<div>\n",
              "<style scoped>\n",
              "    .dataframe tbody tr th:only-of-type {\n",
              "        vertical-align: middle;\n",
              "    }\n",
              "\n",
              "    .dataframe tbody tr th {\n",
              "        vertical-align: top;\n",
              "    }\n",
              "\n",
              "    .dataframe thead th {\n",
              "        text-align: right;\n",
              "    }\n",
              "</style>\n",
              "<table border=\"1\" class=\"dataframe\">\n",
              "  <thead>\n",
              "    <tr style=\"text-align: right;\">\n",
              "      <th></th>\n",
              "      <th>Date</th>\n",
              "      <th>Time</th>\n",
              "      <th>Author</th>\n",
              "      <th>Message</th>\n",
              "      <th>Emojis</th>\n",
              "      <th>URL</th>\n",
              "    </tr>\n",
              "  </thead>\n",
              "  <tbody>\n",
              "    <tr>\n",
              "      <th>0</th>\n",
              "      <td>2021-03-29</td>\n",
              "      <td>8:31 PM</td>\n",
              "      <td>Author 0</td>\n",
              "      <td>Wow Awesome💃💃</td>\n",
              "      <td>💃💃</td>\n",
              "      <td>[]</td>\n",
              "    </tr>\n",
              "    <tr>\n",
              "      <th>1</th>\n",
              "      <td>2021-03-29</td>\n",
              "      <td>8:31 PM</td>\n",
              "      <td>Author 0</td>\n",
              "      <td>Evening dear</td>\n",
              "      <td></td>\n",
              "      <td>[]</td>\n",
              "    </tr>\n",
              "    <tr>\n",
              "      <th>2</th>\n",
              "      <td>2021-03-29</td>\n",
              "      <td>8:32 PM</td>\n",
              "      <td>Author 1</td>\n",
              "      <td>😂😂😂  Forgive ⛑️⛑️⛑️⛑️⛑️ ‎[3/29/21, 8:33:31 PM]...</td>\n",
              "      <td>😂😂😂⛑⛑⛑⛑⛑</td>\n",
              "      <td>[]</td>\n",
              "    </tr>\n",
              "    <tr>\n",
              "      <th>3</th>\n",
              "      <td>2021-03-29</td>\n",
              "      <td>8:34 PM</td>\n",
              "      <td>Author 2</td>\n",
              "      <td>Welcome to this family @2348133241349</td>\n",
              "      <td></td>\n",
              "      <td>[]</td>\n",
              "    </tr>\n",
              "    <tr>\n",
              "      <th>4</th>\n",
              "      <td>2021-03-29</td>\n",
              "      <td>8:48 PM</td>\n",
              "      <td>Author 3</td>\n",
              "      <td>Okay😋</td>\n",
              "      <td>😋</td>\n",
              "      <td>[]</td>\n",
              "    </tr>\n",
              "  </tbody>\n",
              "</table>\n",
              "</div>"
            ],
            "text/plain": [
              "        Date     Time  ...    Emojis URL\n",
              "0 2021-03-29  8:31 PM  ...        💃💃  []\n",
              "1 2021-03-29  8:31 PM  ...            []\n",
              "2 2021-03-29  8:32 PM  ...  😂😂😂⛑⛑⛑⛑⛑  []\n",
              "3 2021-03-29  8:34 PM  ...            []\n",
              "4 2021-03-29  8:48 PM  ...         😋  []\n",
              "\n",
              "[5 rows x 6 columns]"
            ]
          },
          "metadata": {},
          "execution_count": 130
        }
      ]
    },
    {
      "cell_type": "markdown",
      "metadata": {
        "id": "_RKdwEt1Pr_D"
      },
      "source": [
        "Now, Let's modify our dataframe to get more insights.\n"
      ]
    },
    {
      "cell_type": "code",
      "metadata": {
        "colab": {
          "base_uri": "https://localhost:8080/",
          "height": 204
        },
        "id": "9ql3RkuFRobe",
        "outputId": "b43ffcc2-6772-40a8-b331-1701f46389cc"
      },
      "source": [
        "df1.head() #To see what i have in the dataframe"
      ],
      "execution_count": 132,
      "outputs": [
        {
          "output_type": "execute_result",
          "data": {
            "text/html": [
              "<div>\n",
              "<style scoped>\n",
              "    .dataframe tbody tr th:only-of-type {\n",
              "        vertical-align: middle;\n",
              "    }\n",
              "\n",
              "    .dataframe tbody tr th {\n",
              "        vertical-align: top;\n",
              "    }\n",
              "\n",
              "    .dataframe thead th {\n",
              "        text-align: right;\n",
              "    }\n",
              "</style>\n",
              "<table border=\"1\" class=\"dataframe\">\n",
              "  <thead>\n",
              "    <tr style=\"text-align: right;\">\n",
              "      <th></th>\n",
              "      <th>Date</th>\n",
              "      <th>Time</th>\n",
              "      <th>Author</th>\n",
              "      <th>Message</th>\n",
              "      <th>Emojis</th>\n",
              "      <th>URL</th>\n",
              "    </tr>\n",
              "  </thead>\n",
              "  <tbody>\n",
              "    <tr>\n",
              "      <th>0</th>\n",
              "      <td>2021-03-29</td>\n",
              "      <td>8:31 PM</td>\n",
              "      <td>Author 0</td>\n",
              "      <td>Wow Awesome💃💃</td>\n",
              "      <td>💃💃</td>\n",
              "      <td>[]</td>\n",
              "    </tr>\n",
              "    <tr>\n",
              "      <th>1</th>\n",
              "      <td>2021-03-29</td>\n",
              "      <td>8:31 PM</td>\n",
              "      <td>Author 0</td>\n",
              "      <td>Evening dear</td>\n",
              "      <td></td>\n",
              "      <td>[]</td>\n",
              "    </tr>\n",
              "    <tr>\n",
              "      <th>2</th>\n",
              "      <td>2021-03-29</td>\n",
              "      <td>8:32 PM</td>\n",
              "      <td>Author 1</td>\n",
              "      <td>😂😂😂  Forgive ⛑️⛑️⛑️⛑️⛑️ ‎[3/29/21, 8:33:31 PM]...</td>\n",
              "      <td>😂😂😂⛑⛑⛑⛑⛑</td>\n",
              "      <td>[]</td>\n",
              "    </tr>\n",
              "    <tr>\n",
              "      <th>3</th>\n",
              "      <td>2021-03-29</td>\n",
              "      <td>8:34 PM</td>\n",
              "      <td>Author 2</td>\n",
              "      <td>Welcome to this family @2348133241349</td>\n",
              "      <td></td>\n",
              "      <td>[]</td>\n",
              "    </tr>\n",
              "    <tr>\n",
              "      <th>4</th>\n",
              "      <td>2021-03-29</td>\n",
              "      <td>8:48 PM</td>\n",
              "      <td>Author 3</td>\n",
              "      <td>Okay😋</td>\n",
              "      <td>😋</td>\n",
              "      <td>[]</td>\n",
              "    </tr>\n",
              "  </tbody>\n",
              "</table>\n",
              "</div>"
            ],
            "text/plain": [
              "        Date     Time  ...    Emojis URL\n",
              "0 2021-03-29  8:31 PM  ...        💃💃  []\n",
              "1 2021-03-29  8:31 PM  ...            []\n",
              "2 2021-03-29  8:32 PM  ...  😂😂😂⛑⛑⛑⛑⛑  []\n",
              "3 2021-03-29  8:34 PM  ...            []\n",
              "4 2021-03-29  8:48 PM  ...         😋  []\n",
              "\n",
              "[5 rows x 6 columns]"
            ]
          },
          "metadata": {},
          "execution_count": 132
        }
      ]
    },
    {
      "cell_type": "code",
      "metadata": {
        "id": "VE7WILiugp25"
      },
      "source": [
        "# Adding one more column of \"Day\" for better analysis, here we use datetime library which help us to do this task easily.\n",
        "weeks = {\n",
        "0 : 'Monday',\n",
        "1 : 'Tuesday',\n",
        "2 : 'Wednesday',\n",
        "3 : 'Thrusday',\n",
        "4 : 'Friday',\n",
        "5 : 'Saturday',\n",
        "6 : 'Sunday'\n",
        "}"
      ],
      "execution_count": 49,
      "outputs": []
    },
    {
      "cell_type": "code",
      "metadata": {
        "id": "vW4CMIdxRkW8"
      },
      "source": [
        "#To add  feautures Day to our DataFrame\n",
        "df1['Day'] = df1['Date'].dt.weekday.map(weeks)\n",
        "# df1['Number_of_Messages'] = [1]* df1.shape[0]"
      ],
      "execution_count": 50,
      "outputs": []
    },
    {
      "cell_type": "code",
      "metadata": {
        "id": "afmlwJtKbHvl"
      },
      "source": [
        "months = {\n",
        "     1 : 'Jan',\n",
        "     2 : 'Feb',\n",
        "     3 : 'Mar',\n",
        "     4 : 'Apr',\n",
        "     5 : 'May',\n",
        "     6 : 'Jun',\n",
        "     7 : 'Jul',\n",
        "     8 : 'Aug',\n",
        "     9 : 'Sep',\n",
        "    10 : 'Oct',\n",
        "    11 : 'Nov',\n",
        "    12 : 'Dec'\n",
        "}"
      ],
      "execution_count": 51,
      "outputs": []
    },
    {
      "cell_type": "code",
      "metadata": {
        "id": "QDEhoPyZbU8t"
      },
      "source": [
        "df1['Month'] = df1['Date'].dt.month.map(months)"
      ],
      "execution_count": 52,
      "outputs": []
    },
    {
      "cell_type": "code",
      "metadata": {
        "id": "xOC7J5WRSFLT"
      },
      "source": [
        "df1.head()"
      ],
      "execution_count": null,
      "outputs": []
    },
    {
      "cell_type": "code",
      "metadata": {
        "id": "4i2UWrOHSHBJ"
      },
      "source": [
        "# Rearranging the columns for better understanding\n",
        "df1 = df1[['Date','Day',\"Month\",'Time','Author','Message','Emojis','URL']]"
      ],
      "execution_count": 58,
      "outputs": []
    },
    {
      "cell_type": "code",
      "metadata": {
        "colab": {
          "base_uri": "https://localhost:8080/",
          "height": 289
        },
        "id": "IR39o8JMSW9X",
        "outputId": "16e07042-4f97-481f-d2ac-7524fc9db0c5"
      },
      "source": [
        "df1.head()\n"
      ],
      "execution_count": 53,
      "outputs": [
        {
          "output_type": "execute_result",
          "data": {
            "text/html": [
              "<div>\n",
              "<style scoped>\n",
              "    .dataframe tbody tr th:only-of-type {\n",
              "        vertical-align: middle;\n",
              "    }\n",
              "\n",
              "    .dataframe tbody tr th {\n",
              "        vertical-align: top;\n",
              "    }\n",
              "\n",
              "    .dataframe thead th {\n",
              "        text-align: right;\n",
              "    }\n",
              "</style>\n",
              "<table border=\"1\" class=\"dataframe\">\n",
              "  <thead>\n",
              "    <tr style=\"text-align: right;\">\n",
              "      <th></th>\n",
              "      <th>Date</th>\n",
              "      <th>Time</th>\n",
              "      <th>Author</th>\n",
              "      <th>Message</th>\n",
              "      <th>Emojis</th>\n",
              "      <th>URL</th>\n",
              "      <th>Day</th>\n",
              "      <th>Month</th>\n",
              "    </tr>\n",
              "  </thead>\n",
              "  <tbody>\n",
              "    <tr>\n",
              "      <th>0</th>\n",
              "      <td>2019-03-04</td>\n",
              "      <td>8:42 PM</td>\n",
              "      <td>Author 0</td>\n",
              "      <td>‎‪+234 706 973 3917‬ created this group</td>\n",
              "      <td></td>\n",
              "      <td>[]</td>\n",
              "      <td>Monday</td>\n",
              "      <td>Mar</td>\n",
              "    </tr>\n",
              "    <tr>\n",
              "      <th>1</th>\n",
              "      <td>2021-03-29</td>\n",
              "      <td>8:30 PM</td>\n",
              "      <td>Author 0</td>\n",
              "      <td>‎You joined using this group's invite link</td>\n",
              "      <td></td>\n",
              "      <td>[]</td>\n",
              "      <td>Monday</td>\n",
              "      <td>Mar</td>\n",
              "    </tr>\n",
              "    <tr>\n",
              "      <th>2</th>\n",
              "      <td>2021-03-29</td>\n",
              "      <td>8:31 PM</td>\n",
              "      <td>Author 1</td>\n",
              "      <td>Wow Awesome💃💃</td>\n",
              "      <td>💃💃</td>\n",
              "      <td>[]</td>\n",
              "      <td>Monday</td>\n",
              "      <td>Mar</td>\n",
              "    </tr>\n",
              "    <tr>\n",
              "      <th>3</th>\n",
              "      <td>2021-03-29</td>\n",
              "      <td>8:31 PM</td>\n",
              "      <td>Author 1</td>\n",
              "      <td>Evening dear</td>\n",
              "      <td></td>\n",
              "      <td>[]</td>\n",
              "      <td>Monday</td>\n",
              "      <td>Mar</td>\n",
              "    </tr>\n",
              "    <tr>\n",
              "      <th>4</th>\n",
              "      <td>2021-03-29</td>\n",
              "      <td>8:32 PM</td>\n",
              "      <td>Author 2</td>\n",
              "      <td>😂😂😂  Forgive ⛑️⛑️⛑️⛑️⛑️ ‎[3/29/21, 8:33:31 PM]...</td>\n",
              "      <td>😂😂😂⛑⛑⛑⛑⛑</td>\n",
              "      <td>[]</td>\n",
              "      <td>Monday</td>\n",
              "      <td>Mar</td>\n",
              "    </tr>\n",
              "  </tbody>\n",
              "</table>\n",
              "</div>"
            ],
            "text/plain": [
              "        Date     Time    Author  ... URL     Day Month\n",
              "0 2019-03-04  8:42 PM  Author 0  ...  []  Monday   Mar\n",
              "1 2021-03-29  8:30 PM  Author 0  ...  []  Monday   Mar\n",
              "2 2021-03-29  8:31 PM  Author 1  ...  []  Monday   Mar\n",
              "3 2021-03-29  8:31 PM  Author 1  ...  []  Monday   Mar\n",
              "4 2021-03-29  8:32 PM  Author 2  ...  []  Monday   Mar\n",
              "\n",
              "[5 rows x 8 columns]"
            ]
          },
          "metadata": {},
          "execution_count": 53
        }
      ]
    },
    {
      "cell_type": "markdown",
      "metadata": {
        "id": "LAOR7qaMVCm0"
      },
      "source": [
        "DAY OF THE WEEK WITH TOTAL NUMBER OF MESSSAGES"
      ]
    },
    {
      "cell_type": "code",
      "metadata": {
        "colab": {
          "base_uri": "https://localhost:8080/"
        },
        "id": "P6PpjqjdSlFv",
        "outputId": "8a122ffe-e80a-4014-97de-2e69a2d21717"
      },
      "source": [
        "df1.Day.unique()"
      ],
      "execution_count": 54,
      "outputs": [
        {
          "output_type": "execute_result",
          "data": {
            "text/plain": [
              "array(['Monday', 'Tuesday', 'Wednesday', 'Thrusday', 'Friday', 'Saturday',\n",
              "       'Sunday'], dtype=object)"
            ]
          },
          "metadata": {},
          "execution_count": 54
        }
      ]
    },
    {
      "cell_type": "code",
      "metadata": {
        "id": "WTQZLLM2VVY8"
      },
      "source": [
        "#to get numbert of messages\n",
        "df1['Number_of_messages'] = [1]* df1.shape[0]"
      ],
      "execution_count": 55,
      "outputs": []
    },
    {
      "cell_type": "code",
      "metadata": {
        "colab": {
          "base_uri": "https://localhost:8080/",
          "height": 204
        },
        "id": "fFLmJd7sWJnJ",
        "outputId": "fe3973b2-a0ee-4187-aa35-422e738cf2e4"
      },
      "source": [
        "#To check day of the week with the highest number  of messages\n",
        "day_of_week = df1.groupby('Day')['Number_of_messages'].count().sort_values(ascending = False).reset_index() \n",
        "day_of_week.head()"
      ],
      "execution_count": 56,
      "outputs": [
        {
          "output_type": "execute_result",
          "data": {
            "text/html": [
              "<div>\n",
              "<style scoped>\n",
              "    .dataframe tbody tr th:only-of-type {\n",
              "        vertical-align: middle;\n",
              "    }\n",
              "\n",
              "    .dataframe tbody tr th {\n",
              "        vertical-align: top;\n",
              "    }\n",
              "\n",
              "    .dataframe thead th {\n",
              "        text-align: right;\n",
              "    }\n",
              "</style>\n",
              "<table border=\"1\" class=\"dataframe\">\n",
              "  <thead>\n",
              "    <tr style=\"text-align: right;\">\n",
              "      <th></th>\n",
              "      <th>Day</th>\n",
              "      <th>Number_of_messages</th>\n",
              "    </tr>\n",
              "  </thead>\n",
              "  <tbody>\n",
              "    <tr>\n",
              "      <th>0</th>\n",
              "      <td>Friday</td>\n",
              "      <td>1295</td>\n",
              "    </tr>\n",
              "    <tr>\n",
              "      <th>1</th>\n",
              "      <td>Tuesday</td>\n",
              "      <td>427</td>\n",
              "    </tr>\n",
              "    <tr>\n",
              "      <th>2</th>\n",
              "      <td>Monday</td>\n",
              "      <td>218</td>\n",
              "    </tr>\n",
              "    <tr>\n",
              "      <th>3</th>\n",
              "      <td>Saturday</td>\n",
              "      <td>210</td>\n",
              "    </tr>\n",
              "    <tr>\n",
              "      <th>4</th>\n",
              "      <td>Wednesday</td>\n",
              "      <td>207</td>\n",
              "    </tr>\n",
              "  </tbody>\n",
              "</table>\n",
              "</div>"
            ],
            "text/plain": [
              "         Day  Number_of_messages\n",
              "0     Friday                1295\n",
              "1    Tuesday                 427\n",
              "2     Monday                 218\n",
              "3   Saturday                 210\n",
              "4  Wednesday                 207"
            ]
          },
          "metadata": {},
          "execution_count": 56
        }
      ]
    },
    {
      "cell_type": "code",
      "metadata": {
        "id": "ItYEqoX3CG64"
      },
      "source": [
        "day_of_week.info()"
      ],
      "execution_count": null,
      "outputs": []
    },
    {
      "cell_type": "code",
      "metadata": {
        "colab": {
          "base_uri": "https://localhost:8080/",
          "height": 672
        },
        "id": "-ndNAlqAWO03",
        "outputId": "f4b6957e-93d6-46c7-8d36-b8980648cf6d"
      },
      "source": [
        "sns.set_style('darkgrid')\n",
        "matplotlib.rcParams['figure.figsize'] = (12, 10)\n",
        "\n",
        "plt.title(\"Day of the Week\")\n",
        "barplot = sns.barplot(data=day_of_week, x=\"Day\", y=\"Number_of_messages\", hue=\"Day\", palette=\"CMRmap\", dodge=False)\n",
        "barplot.set_xticklabels(rotation=50, labels=day_of_week.Day)\n",
        "plt.ylabel(\"Number_of_messages\")\n",
        "plt.show()"
      ],
      "execution_count": 72,
      "outputs": [
        {
          "output_type": "display_data",
          "data": {
            "image/png": "[encoded data removed]",
            "text/plain": [
              "<Figure size 864x720 with 1 Axes>"
            ]
          },
          "metadata": {}
        }
      ]
    },
    {
      "cell_type": "markdown",
      "metadata": {
        "id": "JB5VG6oiD78u"
      },
      "source": [
        "from the chart abov3e, we can see Friday is the most active day of the week. Probably there is always a webinar on Friday"
      ]
    },
    {
      "cell_type": "markdown",
      "metadata": {
        "id": "zJoEVEqiNJJA"
      },
      "source": [
        "### **TIMELINE OF THE DATA**"
      ]
    },
    {
      "cell_type": "markdown",
      "metadata": {
        "id": "I7sk-jTdFSpI"
      },
      "source": [
        "We can also check for the timeline, The date the cahart started in the group"
      ]
    },
    {
      "cell_type": "code",
      "metadata": {
        "colab": {
          "base_uri": "https://localhost:8080/"
        },
        "id": "hkX3KSfyHSio",
        "outputId": "50bea948-02b1-4515-d0cf-ef99589d2cb8"
      },
      "source": [
        "start = df1.Date.min() \n",
        "end = df1.Date.max()\n",
        "\n",
        "\n",
        "\n",
        "difference = end-start\n",
        "print(f\"The chat data started from {start} upto {end}\")\n",
        "print(f\"which approximately consists of {difference} hours\")\n"
      ],
      "execution_count": 59,
      "outputs": [
        {
          "output_type": "stream",
          "text": [
            "The chat data started from 2019-03-04 00:00:00 upto 2021-08-18 00:00:00\n",
            "which approximately consists of 898 days 00:00:00 hours\n"
          ],
          "name": "stdout"
        }
      ]
    },
    {
      "cell_type": "code",
      "metadata": {
        "id": "mTU3syG_Wn05"
      },
      "source": [
        "df1['Number_of_messages'] = [1]* df1.shape[0]"
      ],
      "execution_count": 60,
      "outputs": []
    },
    {
      "cell_type": "code",
      "metadata": {
        "colab": {
          "base_uri": "https://localhost:8080/",
          "height": 359
        },
        "id": "_4Xcq2ATFo7w",
        "outputId": "e6734b0e-2327-4a58-b624-07de7d0102a3"
      },
      "source": [
        "\n",
        "\n",
        "Time_df = df1.groupby('Time')['Number_of_messages'].count().sort_values(ascending=False).reset_index()\n",
        "Time_df =Time_df[:10]\n",
        "Time_df"
      ],
      "execution_count": 61,
      "outputs": [
        {
          "output_type": "execute_result",
          "data": {
            "text/html": [
              "<div>\n",
              "<style scoped>\n",
              "    .dataframe tbody tr th:only-of-type {\n",
              "        vertical-align: middle;\n",
              "    }\n",
              "\n",
              "    .dataframe tbody tr th {\n",
              "        vertical-align: top;\n",
              "    }\n",
              "\n",
              "    .dataframe thead th {\n",
              "        text-align: right;\n",
              "    }\n",
              "</style>\n",
              "<table border=\"1\" class=\"dataframe\">\n",
              "  <thead>\n",
              "    <tr style=\"text-align: right;\">\n",
              "      <th></th>\n",
              "      <th>Time</th>\n",
              "      <th>Number_of_messages</th>\n",
              "    </tr>\n",
              "  </thead>\n",
              "  <tbody>\n",
              "    <tr>\n",
              "      <th>0</th>\n",
              "      <td>9:24 PM</td>\n",
              "      <td>18</td>\n",
              "    </tr>\n",
              "    <tr>\n",
              "      <th>1</th>\n",
              "      <td>8:07 PM</td>\n",
              "      <td>17</td>\n",
              "    </tr>\n",
              "    <tr>\n",
              "      <th>2</th>\n",
              "      <td>8:32 PM</td>\n",
              "      <td>15</td>\n",
              "    </tr>\n",
              "    <tr>\n",
              "      <th>3</th>\n",
              "      <td>7:32 PM</td>\n",
              "      <td>15</td>\n",
              "    </tr>\n",
              "    <tr>\n",
              "      <th>4</th>\n",
              "      <td>9:20 PM</td>\n",
              "      <td>15</td>\n",
              "    </tr>\n",
              "    <tr>\n",
              "      <th>5</th>\n",
              "      <td>8:34 PM</td>\n",
              "      <td>14</td>\n",
              "    </tr>\n",
              "    <tr>\n",
              "      <th>6</th>\n",
              "      <td>8:50 PM</td>\n",
              "      <td>14</td>\n",
              "    </tr>\n",
              "    <tr>\n",
              "      <th>7</th>\n",
              "      <td>8:30 PM</td>\n",
              "      <td>14</td>\n",
              "    </tr>\n",
              "    <tr>\n",
              "      <th>8</th>\n",
              "      <td>8:12 PM</td>\n",
              "      <td>14</td>\n",
              "    </tr>\n",
              "    <tr>\n",
              "      <th>9</th>\n",
              "      <td>8:43 PM</td>\n",
              "      <td>13</td>\n",
              "    </tr>\n",
              "  </tbody>\n",
              "</table>\n",
              "</div>"
            ],
            "text/plain": [
              "      Time  Number_of_messages\n",
              "0  9:24 PM                  18\n",
              "1  8:07 PM                  17\n",
              "2  8:32 PM                  15\n",
              "3  7:32 PM                  15\n",
              "4  9:20 PM                  15\n",
              "5  8:34 PM                  14\n",
              "6  8:50 PM                  14\n",
              "7  8:30 PM                  14\n",
              "8  8:12 PM                  14\n",
              "9  8:43 PM                  13"
            ]
          },
          "metadata": {},
          "execution_count": 61
        }
      ]
    },
    {
      "cell_type": "code",
      "metadata": {
        "colab": {
          "base_uri": "https://localhost:8080/",
          "height": 381
        },
        "id": "gzNpQgMEMa-4",
        "outputId": "fa3850ae-8e3b-48ab-92c8-bea73ad84718"
      },
      "source": [
        "matplotlib.rcParams['font.size'] = 20\n",
        "matplotlib.rcParams['figure.figsize'] = (20, 8)\n",
        "sns.set_style(\"darkgrid\")\n",
        "\n",
        "plt.title('Time When Group was Active ');\n",
        "time_plot = sns.barplot(x=\"Time\",y=\"Number_of_messages\",data = Time_df, dodge=False)\n",
        "plt.show()"
      ],
      "execution_count": 71,
      "outputs": [
        {
          "output_type": "display_data",
          "data": {
            "image/png": "[encoded data removed]",
            "text/plain": [
              "<Figure size 1440x576 with 1 Axes>"
            ]
          },
          "metadata": {}
        }
      ]
    },
    {
      "cell_type": "markdown",
      "metadata": {
        "id": "-pvx8u86Y2sl"
      },
      "source": [
        "From the chart above, we can see the group is always active in the night."
      ]
    },
    {
      "cell_type": "markdown",
      "metadata": {
        "id": "v_wnXVMwcoY6"
      },
      "source": [
        "### **The Busisest Month in the Group**"
      ]
    },
    {
      "cell_type": "code",
      "metadata": {
        "colab": {
          "base_uri": "https://localhost:8080/",
          "height": 204
        },
        "id": "5BPekWKZMw8t",
        "outputId": "f6ff180d-35e0-4c36-da59-e483f14f1405"
      },
      "source": [
        "df1['Number_of_messages'] = [1]* df1.shape[0]\n",
        "month_df = df1.groupby('Month')['Number_of_messages'].count().sort_values(ascending = False).reset_index() \n",
        "month_df.head()"
      ],
      "execution_count": 63,
      "outputs": [
        {
          "output_type": "execute_result",
          "data": {
            "text/html": [
              "<div>\n",
              "<style scoped>\n",
              "    .dataframe tbody tr th:only-of-type {\n",
              "        vertical-align: middle;\n",
              "    }\n",
              "\n",
              "    .dataframe tbody tr th {\n",
              "        vertical-align: top;\n",
              "    }\n",
              "\n",
              "    .dataframe thead th {\n",
              "        text-align: right;\n",
              "    }\n",
              "</style>\n",
              "<table border=\"1\" class=\"dataframe\">\n",
              "  <thead>\n",
              "    <tr style=\"text-align: right;\">\n",
              "      <th></th>\n",
              "      <th>Month</th>\n",
              "      <th>Number_of_messages</th>\n",
              "    </tr>\n",
              "  </thead>\n",
              "  <tbody>\n",
              "    <tr>\n",
              "      <th>0</th>\n",
              "      <td>Apr</td>\n",
              "      <td>840</td>\n",
              "    </tr>\n",
              "    <tr>\n",
              "      <th>1</th>\n",
              "      <td>Jun</td>\n",
              "      <td>621</td>\n",
              "    </tr>\n",
              "    <tr>\n",
              "      <th>2</th>\n",
              "      <td>May</td>\n",
              "      <td>572</td>\n",
              "    </tr>\n",
              "    <tr>\n",
              "      <th>3</th>\n",
              "      <td>Jul</td>\n",
              "      <td>470</td>\n",
              "    </tr>\n",
              "    <tr>\n",
              "      <th>4</th>\n",
              "      <td>Aug</td>\n",
              "      <td>134</td>\n",
              "    </tr>\n",
              "  </tbody>\n",
              "</table>\n",
              "</div>"
            ],
            "text/plain": [
              "  Month  Number_of_messages\n",
              "0   Apr                 840\n",
              "1   Jun                 621\n",
              "2   May                 572\n",
              "3   Jul                 470\n",
              "4   Aug                 134"
            ]
          },
          "metadata": {},
          "execution_count": 63
        }
      ]
    },
    {
      "cell_type": "code",
      "metadata": {
        "colab": {
          "base_uri": "https://localhost:8080/",
          "height": 641
        },
        "id": "IhkU7mRBcU0J",
        "outputId": "e8adda35-c7ed-40b1-960c-cf8f8c6fc643"
      },
      "source": [
        "sns.set_style('darkgrid')\n",
        "matplotlib.rcParams['figure.figsize'] = (12, 10)\n",
        "\n",
        "plt.title(\"Busiest Month in the Group\")\n",
        "barplot = sns.barplot(data=month_df, x=\"Month\", y=\"Number_of_messages\", hue=\"Month\", palette=\"CMRmap\", dodge=False)\n",
        "barplot.set_xticklabels(rotation=50, labels=month_df.Month)\n",
        "plt.ylabel(\"Number_of_messages\")\n",
        "plt.show()"
      ],
      "execution_count": 70,
      "outputs": [
        {
          "output_type": "display_data",
          "data": {
            "image/png": "[encoded data removed]",
            "text/plain": [
              "<Figure size 864x720 with 1 Axes>"
            ]
          },
          "metadata": {}
        }
      ]
    },
    {
      "cell_type": "markdown",
      "metadata": {
        "id": "io3CJjfhdgSZ"
      },
      "source": [
        "In this analysis, we found that the busiest month is on April the total number of messages had reached around 822, The reason behind it is because on that month, there are lots of webinar and program. This show that the users are very active during that month. "
      ]
    },
    {
      "cell_type": "markdown",
      "metadata": {
        "id": "fJD8_QXReIek"
      },
      "source": [
        "WordCloud.\n",
        "It’s time to create a word cloud with all “chat” words, for this we will use WordCloud library.\n"
      ]
    },
    {
      "cell_type": "code",
      "metadata": {
        "id": "3YHnEnF1eHwo"
      },
      "source": [
        "\n",
        "from wordcloud import WordCloud, STOPWORDS"
      ],
      "execution_count": 64,
      "outputs": []
    },
    {
      "cell_type": "code",
      "metadata": {
        "colab": {
          "base_uri": "https://localhost:8080/",
          "height": 303
        },
        "id": "SXRhsNVoeSuD",
        "outputId": "c38a459b-b190-4e5d-add5-3649276f1cff"
      },
      "source": [
        "#Each of the word in the message will be review\n",
        "word = \" \".join(review for review in df1.Message)\n",
        "\n",
        "#Creating a word cloud \n",
        "wordcloud = WordCloud(width = 500, height =500 , background_color=\"black\",min_font_size = 10).generate(word)\n",
        "\n",
        "plt.figure( figsize=(10,5))\n",
        "plt.imshow(wordcloud, interpolation='bilinear')\n",
        "plt.axis(\"off\")\n",
        "plt.show()"
      ],
      "execution_count": 66,
      "outputs": [
        {
          "output_type": "display_data",
          "data": {
            "image/png": "[encoded data removed]",
            "text/plain": [
              "<Figure size 720x360 with 1 Axes>"
            ]
          },
          "metadata": {}
        }
      ]
    },
    {
      "cell_type": "code",
      "metadata": {
        "colab": {
          "base_uri": "https://localhost:8080/",
          "height": 517
        },
        "id": "WvqfKsaLO6fC",
        "outputId": "eb79fded-4b4d-4b34-9ee9-addf55194246"
      },
      "source": [
        "wordcloud.to_image()"
      ],
      "execution_count": 67,
      "outputs": [
        {
          "output_type": "execute_result",
          "data": {
            "image/png": "[encoded data removed]",
            "text/plain": [
              "<PIL.Image.Image image mode=RGB size=500x500 at 0x7FF4C402A710>"
            ]
          },
          "metadata": {},
          "execution_count": 67
        }
      ]
    },
    {
      "cell_type": "code",
      "metadata": {
        "id": "42UbVtECO7Ux"
      },
      "source": [
        ""
      ],
      "execution_count": null,
      "outputs": []
    }
  ]
}